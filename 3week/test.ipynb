{
 "cells": [
  {
   "cell_type": "markdown",
   "metadata": {},
   "source": [
    "Create a hex2base64 function that converts, a string containing hex code, to base64 encoding without using any library."
   ]
  },
  {
   "cell_type": "code",
   "execution_count": 14,
   "metadata": {},
   "outputs": [],
   "source": [
    "ALPHABET = 'abcdefghijklmnopqrstuvwxy'"
   ]
  },
  {
   "cell_type": "code",
   "execution_count": 15,
   "metadata": {},
   "outputs": [],
   "source": [
    "def index_of_coincidence(text):\n",
    "    counts = [0]*25\n",
    "    for char in text:\n",
    "        counts[ALPHABET.index(char)] += 1\n",
    "    numer = 0\n",
    "    total = 0\n",
    "    for i in range(25):\n",
    "        numer += counts[i]*(counts[i]-1)\n",
    "        total += counts[i]\n",
    "    return 25*numer / (total*(total-1))"
   ]
  },
  {
   "cell_type": "code",
   "execution_count": 16,
   "metadata": {},
   "outputs": [],
   "source": [
    "ciphertext = 'nvrpyqiudkcorhnclbypsaclsjsfjrwimqegdmnacywbafygjwdeupsswrkcinrjmttqnxndfimjeaalmdljjsluyysciyxnivkotxjsxmsxljiriiyxacpqdocitewiavgrwgsdiitmsubidbxqnliouiuojndrwcvgmybersktmrknkvhdbrabsxmhlwsvbyficwlbouikwjmoqiudkcopsshamorhttghyhltjktiqesrwipfxjsfjjirihgybcpiofwouvjslbjiwfcuxdtlyvmhxfiiofwokiqkvjjirihgynvpbsjwydsxwlxxbsbsaachijcfcirxjsfncrwjqghxkexbrwyqihsaachijclqybxedfxubhhdfmdgxjrgyivrjivxiuysrjxxnrihvpybttjfwncjlddwubhylvfqrlaculyqesrvcbuxesaachttjfwncjxwdpyfeqhgdykiqhguonmssucigxqdmcnvrjmtbubkjtglnvpbsjnjgebsllubwudjnuhmtcrhxjeqjvwuhxmwjnyrryvgonnrirgfgnvxiyxuosbsamnrgagvftdehyvwdbmwdfjjhwcwlbdfssqgpyfwyvvpuipywkljikmaqfdbiilancgxtcvtiqxmsnxngiqhjxnhsshgfdqwydfxubhfgvvjjiwsuqdhltiyxmgtfevliiqgsjiirhjhtldoixiyxylehidiwnpniqiahljkroghwtiytobsiwwydpyqiqqdypgsytxvrkwfwdbkni'"
   ]
  },
  {
   "cell_type": "code",
   "execution_count": 17,
   "metadata": {},
   "outputs": [],
   "source": [
    "found = False\n",
    "period = 0\n",
    "while not found:\n",
    "    period += 1\n",
    "    slices = ['']*period\n",
    "    for i in range(len(ciphertext)):\n",
    "        slices[i%period] += ciphertext[i]\n",
    "        sum = 0\n",
    "    for i in range(period):\n",
    "        sum += index_of_coincidence(slices[i])\n",
    "    ioc = sum / period\n",
    "    if ioc > 1.6:\n",
    "        found = True"
   ]
  },
  {
   "cell_type": "code",
   "execution_count": 18,
   "metadata": {},
   "outputs": [
    {
     "data": {
      "text/plain": [
       "1.7042038652342064"
      ]
     },
     "execution_count": 18,
     "metadata": {},
     "output_type": "execute_result"
    }
   ],
   "source": [
    "ioc"
   ]
  },
  {
   "cell_type": "code",
   "execution_count": 19,
   "metadata": {},
   "outputs": [
    {
     "data": {
      "text/plain": [
       "7"
      ]
     },
     "execution_count": 19,
     "metadata": {},
     "output_type": "execute_result"
    }
   ],
   "source": [
    "period"
   ]
  },
  {
   "cell_type": "code",
   "execution_count": 1,
   "metadata": {},
   "outputs": [],
   "source": [
    "def hex2base64(hex_str: str) -> str:\n",
    "    b64_tabel = \"ABCDEFGHIJKLMNOPQRSTUVWXYZabcdefghijklmnopqrstuvwxyz0123456789+/\"\n",
    "    b64_str = \"\"\n",
    "    bin_str = bin(int(hex_str, 16))[2:]\n",
    "    bin_str = bin_str.rjust(len(hex_str) * 4, '0')\n",
    "    \n",
    "    for i in range(0, len(bin_str), 6):\n",
    "        bits = bin_str[i:i+6]\n",
    "        if len(bits) < 6:\n",
    "            bits = bits.ljust(6, '0')\n",
    "        b64_str += b64_tabel[int(bits, 2)]\n",
    "    \n",
    "    b64_str += '=' * ((4 - len(b64_str) % 4) % 4)\n",
    "    \n",
    "    return b64_str\n"
   ]
  },
  {
   "cell_type": "code",
   "execution_count": 2,
   "metadata": {},
   "outputs": [
    {
     "data": {
      "text/plain": [
       "'EjRWeJq83g=='"
      ]
     },
     "execution_count": 2,
     "metadata": {},
     "output_type": "execute_result"
    }
   ],
   "source": [
    "hex_str = \"123456789abcde\"\n",
    "\n",
    "hex2base64(hex_str) \n"
   ]
  },
  {
   "cell_type": "code",
   "execution_count": 3,
   "metadata": {},
   "outputs": [
    {
     "name": "stdout",
     "output_type": "stream",
     "text": [
      "786\n",
      "n v r p y q i\n",
      "u d k c o r h\n",
      "n c l b y p s\n",
      "a c l s j s f\n",
      "j r w i m q e\n",
      "g d m n a c y\n",
      "w b a f y g j\n",
      "w d e u p s s\n",
      "w r k c i n r\n",
      "j m t t q n x\n",
      "n d f i m j e\n",
      "a a l m d l j\n",
      "j s l u y y s\n",
      "c i y x n i v\n",
      "k o t x j s x\n",
      "m s x l j i r\n",
      "i i y x a c p\n",
      "q d o c i t e\n",
      "w i a v g r w\n",
      "g s d i i t m\n",
      "s u b i d b x\n",
      "q n l i o u i\n",
      "u o j n d r w\n",
      "c v g m y b e\n",
      "r s k t m r k\n",
      "n k v h d b r\n",
      "a b s x m h l\n",
      "w s v b y f i\n",
      "c w l b o u i\n",
      "k w j m o q i\n",
      "u d k c o p s\n",
      "s h a m o r h\n",
      "t t g h y h l\n",
      "t j k t i q e\n",
      "s r w i p f x\n",
      "j s f j j i r\n",
      "i h g y b c p\n",
      "i o f w o u v\n",
      "j s l b j i w\n",
      "f c u x d t l\n",
      "y v m h x f i\n",
      "i o f w o k i\n",
      "q k v j j i r\n",
      "i h g y n v p\n",
      "b s j w y d s\n",
      "x w l x x b s\n",
      "b s a a c h i\n",
      "j c f c i r x\n",
      "j s f n c r w\n",
      "j q g h x k e\n",
      "x b r w y q i\n",
      "h s a a c h i\n",
      "j c l q y b x\n",
      "e d f x u b h\n",
      "h d f m d g x\n",
      "j r g y i v r\n",
      "j i v x i u y\n",
      "s r j x x n r\n",
      "i h v p y b t\n",
      "t j f w n c j\n",
      "l d d w u b h\n",
      "y l v f q r l\n",
      "a c u l y q e\n",
      "s r v c b u x\n",
      "e s a a c h t\n",
      "t j f w n c j\n",
      "x w d p y f e\n",
      "q h g d y k i\n",
      "q h g u o n m\n",
      "s s u c i g x\n",
      "q d m c n v r\n",
      "j m t b u b k\n",
      "j t g l n v p\n",
      "b s j n j g e\n",
      "b s l l u b w\n",
      "u d j n u h m\n",
      "t c r h x j e\n",
      "q j v w u h x\n",
      "m w j n y r r\n",
      "y v g o n n r\n",
      "i r g f g n v\n",
      "x i y x u o s\n",
      "b s a m n r g\n",
      "a g v f t d e\n",
      "h y v w d b m\n",
      "w d f j j h w\n",
      "c w l b d f s\n",
      "s q g p y f w\n",
      "y v v p u i p\n",
      "y w k l j i k\n",
      "m a q f d b i\n",
      "i l a n c g x\n",
      "t c v t i q x\n",
      "m s n x n g i\n",
      "q h j x n h s\n",
      "s h g f d q w\n",
      "y d f x u b h\n",
      "f g v v j j i\n",
      "w s u q d h l\n",
      "t i y x m g t\n",
      "f e v l i i q\n",
      "g s j i i r h\n",
      "j h t l d o i\n",
      "x i y x y l e\n",
      "h i d i w n p\n",
      "n i q i a h l\n",
      "j k r o g h w\n",
      "t i y t o b s\n",
      "i w w y d p y\n",
      "q i q q d y p\n",
      "g s y t x v r\n",
      "k w f w d b k\n",
      "n i          \n",
      "Letter 'r': 4 times\n",
      "Letter 'k': 6 times\n",
      "Letter 'l': 11 times\n",
      "Letter 'w': 3 times\n",
      "Letter 'm': 3 times\n",
      "Letter 'a': 8 times\n",
      "Letter 'e': 1 times\n",
      "Letter 't': 4 times\n",
      "Letter 'f': 13 times\n",
      "Letter 'y': 7 times\n",
      "Letter 'x': 1 times\n",
      "Letter 'o': 1 times\n",
      "Letter 'd': 4 times\n",
      "Letter 'b': 1 times\n",
      "Letter 'j': 9 times\n",
      "Letter 'g': 13 times\n",
      "Letter 'v': 14 times\n",
      "Letter 's': 1 times\n",
      "Letter 'u': 4 times\n",
      "Letter 'q': 3 times\n",
      "Letter 'n': 1 times\n",
      "niryswdwjsitfajsijlydwwtdijvrkbmblwusrytwsipujxmoqrvyxacjwkyaldhxvixvjlhrycajxekocmmjpgunrjmrngxaghmhdpvwmigixjhyhjdxvsjilwiriiyyxw\n"
     ]
    }
   ],
   "source": [
    "def string_to_matrix(input_string, num_columns):\n",
    "    # Calculate the number of rows needed based on the string length and num_columns\n",
    "    num_rows = -(-len(input_string) // num_columns)  # Equivalent to math.ceil(len(input_string) / num_columns)\n",
    "\n",
    "    # Create an empty matrix\n",
    "    matrix = [[' ' for _ in range(num_columns)] for _ in range(num_rows)]\n",
    "\n",
    "    # Fill the matrix with characters from the input string\n",
    "    index = 0\n",
    "    for row in range(num_rows):\n",
    "        for col in range(num_columns):\n",
    "            if index < len(input_string):\n",
    "                matrix[row][col] = input_string[index]\n",
    "                index += 1\n",
    "\n",
    "    # Calculate the frequency of each letter in the first column\n",
    "    first_column = [row[2] for row in matrix]\n",
    "    letter_frequency = {}\n",
    "    for letter in first_column:\n",
    "        if letter != ' ':\n",
    "            if letter in letter_frequency:\n",
    "                letter_frequency[letter] += 1\n",
    "            else:\n",
    "                letter_frequency[letter] = 1\n",
    "\n",
    "    return matrix, letter_frequency\n",
    "\n",
    "def get_group_by_step(ciphertext):\n",
    "    group = \"\"\n",
    "    for i in range(0, len(ciphertext), 6):\n",
    "        group += ciphertext[i]\n",
    "    return group\n",
    "# Example usage:\n",
    "input_string = \"nvrpyqiudkcorhnclbypsaclsjsfjrwimqegdmnacywbafygjwdeupsswrkcinrjmttqnxndfimjeaalmdljjsluyysciyxnivkotxjsxmsxljiriiyxacpqdocitewiavgrwgsdiitmsubidbxqnliouiuojndrwcvgmybersktmrknkvhdbrabsxmhlwsvbyficwlbouikwjmoqiudkcopsshamorhttghyhltjktiqesrwipfxjsfjjirihgybcpiofwouvjslbjiwfcuxdtlyvmhxfiiofwokiqkvjjirihgynvpbsjwydsxwlxxbsbsaachijcfcirxjsfncrwjqghxkexbrwyqihsaachijclqybxedfxubhhdfmdgxjrgyivrjivxiuysrjxxnrihvpybttjfwncjlddwubhylvfqrlaculyqesrvcbuxesaachttjfwncjxwdpyfeqhgdykiqhguonmssucigxqdmcnvrjmtbubkjtglnvpbsjnjgebsllubwudjnuhmtcrhxjeqjvwuhxmwjnyrryvgonnrirgfgnvxiyxuosbsamnrgagvftdehyvwdbmwdfjjhwcwlbdfssqgpyfwyvvpuipywkljikmaqfdbiilancgxtcvtiqxmsnxngiqhjxnhsshgfdqwydfxubhfgvvjjiwsuqdhltiyxmgtfevliiqgsjiirhjhtldoixiyxylehidiwnpniqiahljkroghwtiytobsiwwydpyqiqqdypgsytxvrkwfwdbkni\"\n",
    "num_columns = 7\n",
    "\n",
    "matrix, letter_frequency = string_to_matrix(input_string, num_columns)\n",
    "\n",
    "print(len(input_string))\n",
    "# Print the matrix\n",
    "for row in matrix:\n",
    "    print(\" \".join(row))\n",
    "\n",
    "# Print the frequency of each letter in the first column\n",
    "for letter, frequency in letter_frequency.items():\n",
    "    print(f\"Letter '{letter}': {frequency} times\")\n",
    "\n",
    "print(get_group_by_step(input_string))\n",
    "\n",
    "\n",
    "\n",
    "\n"
   ]
  },
  {
   "cell_type": "code",
   "execution_count": 2,
   "metadata": {},
   "outputs": [
    {
     "name": "stdout",
     "output_type": "stream",
     "text": [
      "niryswdwjsitfajsijlydwwtdijvrkbmblwusrytwsipujxmoqrvyxacjwkyaldhxvixvjlhrycajxekocmmjpgunrjmrngxaghmhdpvwmigixjhyhjdxvsjilwiriiyyxw\n"
     ]
    }
   ],
   "source": [
    "output =\"\"\n",
    "input_string = \"nvrpyqiudkcorhnclbypsaclsjsfjrwimqegdmnacywbafygjwdeupsswrkcinrjmttqnxndfimjeaalmdljjsluyysciyxnivkotxjsxmsxljiriiyxacpqdocitewiavgrwgsdiitmsubidbxqnliouiuojndrwcvgmybersktmrknkvhdbrabsxmhlwsvbyficwlbouikwjmoqiudkcopsshamorhttghyhltjktiqesrwipfxjsfjjirihgybcpiofwouvjslbjiwfcuxdtlyvmhxfiiofwokiqkvjjirihgynvpbsjwydsxwlxxbsbsaachijcfcirxjsfncrwjqghxkexbrwyqihsaachijclqybxedfxubhhdfmdgxjrgyivrjivxiuysrjxxnrihvpybttjfwncjlddwubhylvfqrlaculyqesrvcbuxesaachttjfwncjxwdpyfeqhgdykiqhguonmssucigxqdmcnvrjmtbubkjtglnvpbsjnjgebsllubwudjnuhmtcrhxjeqjvwuhxmwjnyrryvgonnrirgfgnvxiyxuosbsamnrgagvftdehyvwdbmwdfjjhwcwlbdfssqgpyfwyvvpuipywkljikmaqfdbiilancgxtcvtiqxmsnxngiqhjxnhsshgfdqwydfxubhfgvvjjiwsuqdhltiyxmgtfevliiqgsjiirhjhtldoixiyxylehidiwnpniqiahljkroghwtiytobsiwwydpyqiqqdypgsytxvrkwfwdbkni\"\n",
    "\n",
    "for i in range(len(input_string)):\n",
    "    if i%6 == 0:\n",
    "        output += input_string[i]\n",
    "\n",
    "print(output)"
   ]
  },
  {
   "cell_type": "code",
   "execution_count": 4,
   "metadata": {},
   "outputs": [],
   "source": [
    "def calculate_shifts_25(frequencies):\n",
    "    shifts = []\n",
    "    for freq in frequencies:\n",
    "        most_common_char, _ = freq.most_common(1)[0]\n",
    "        shift = (ord(most_common_char) - ord('e')) % 25\n",
    "        shifts.append(shift)\n",
    "    return shifts\n"
   ]
  },
  {
   "cell_type": "code",
   "execution_count": null,
   "metadata": {},
   "outputs": [],
   "source": []
  }
 ],
 "metadata": {
  "kernelspec": {
   "display_name": "Python 3",
   "language": "python",
   "name": "python3"
  },
  "language_info": {
   "codemirror_mode": {
    "name": "ipython",
    "version": 3
   },
   "file_extension": ".py",
   "mimetype": "text/x-python",
   "name": "python",
   "nbconvert_exporter": "python",
   "pygments_lexer": "ipython3",
   "version": "3.11.3"
  },
  "orig_nbformat": 4
 },
 "nbformat": 4,
 "nbformat_minor": 2
}
