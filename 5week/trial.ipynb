{
 "cells": [
  {
   "cell_type": "markdown",
   "metadata": {},
   "source": [
    "# Task 1"
   ]
  },
  {
   "cell_type": "code",
   "execution_count": 69,
   "metadata": {},
   "outputs": [],
   "source": [
    "def encrypt_by_add_mod(text,key):\n",
    "    encrypted_text = []\n",
    "    for char in text:\n",
    "        encrypted_text.append(chr((ord(char) + key) % 256))\n",
    "        \n",
    "    return ''.join(encrypted_text)"
   ]
  },
  {
   "cell_type": "code",
   "execution_count": 70,
   "metadata": {},
   "outputs": [
    {
     "data": {
      "text/plain": [
       "'Ãàççê'"
      ]
     },
     "execution_count": 70,
     "metadata": {},
     "output_type": "execute_result"
    }
   ],
   "source": [
    "encrypt_by_add_mod('Hello', 123)"
   ]
  },
  {
   "cell_type": "code",
   "execution_count": 71,
   "metadata": {},
   "outputs": [
    {
     "data": {
      "text/plain": [
       "'Hello'"
      ]
     },
     "execution_count": 71,
     "metadata": {},
     "output_type": "execute_result"
    }
   ],
   "source": [
    "encrypt_by_add_mod(encrypt_by_add_mod('Hello', 123), 133)"
   ]
  },
  {
   "cell_type": "code",
   "execution_count": 72,
   "metadata": {},
   "outputs": [
    {
     "data": {
      "text/plain": [
       "'Cryptography'"
      ]
     },
     "execution_count": 72,
     "metadata": {},
     "output_type": "execute_result"
    }
   ],
   "source": [
    "encrypt_by_add_mod(encrypt_by_add_mod('Cryptography', 10), 246)"
   ]
  },
  {
   "cell_type": "markdown",
   "metadata": {},
   "source": [
    "# Task 2"
   ]
  },
  {
   "cell_type": "code",
   "execution_count": 73,
   "metadata": {},
   "outputs": [],
   "source": [
    "def encrypt_xor_with_changing_key_by_prev_cipher(text, initial_key, mode):\n",
    "    result = []\n",
    "    key = initial_key\n",
    "    for char in text:\n",
    "        if mode == 'encrypt':\n",
    "            cipher_byte = ord(char) ^ key\n",
    "            result.append(cipher_byte)\n",
    "            key = cipher_byte\n",
    "        elif mode == 'decrypt':\n",
    "            plain_byte = ord(char) ^ key\n",
    "            result.append(plain_byte)\n",
    "            key = ord(char)\n",
    "    return ''.join([chr(byte) for byte in result])"
   ]
  },
  {
   "cell_type": "code",
   "execution_count": 74,
   "metadata": {},
   "outputs": [
    {
     "data": {
      "text/plain": [
       "'3V:V9'"
      ]
     },
     "execution_count": 74,
     "metadata": {},
     "output_type": "execute_result"
    }
   ],
   "source": [
    "encrypt_xor_with_changing_key_by_prev_cipher('Hello', 123, 'encrypt')"
   ]
  },
  {
   "cell_type": "code",
   "execution_count": 75,
   "metadata": {},
   "outputs": [
    {
     "data": {
      "text/plain": [
       "'Hello'"
      ]
     },
     "execution_count": 75,
     "metadata": {},
     "output_type": "execute_result"
    }
   ],
   "source": [
    "encrypt_xor_with_changing_key_by_prev_cipher(encrypt_xor_with_changing_key_by_prev_cipher('Hello',123,'encrypt'),123,'decrypt')"
   ]
  },
  {
   "cell_type": "code",
   "execution_count": 76,
   "metadata": {},
   "outputs": [
    {
     "data": {
      "text/plain": [
       "'Cryptography'"
      ]
     },
     "execution_count": 76,
     "metadata": {},
     "output_type": "execute_result"
    }
   ],
   "source": [
    "encrypt_xor_with_changing_key_by_prev_cipher(encrypt_xor_with_changing_key_by_prev_cipher('Cryptography',10,'encrypt'),10,'decrypt')"
   ]
  },
  {
   "cell_type": "markdown",
   "metadata": {},
   "source": [
    "# Task 3"
   ]
  },
  {
   "cell_type": "code",
   "execution_count": 77,
   "metadata": {},
   "outputs": [],
   "source": [
    "def chunk_string(string, chunkSize):\n",
    "    return [string[i::chunkSize] for i in range(chunkSize)]\n",
    "\n",
    "def reverse_chunk_string(chunks):\n",
    "    result = []\n",
    "    for i in range(len(chunks[0])):\n",
    "        for chunk in chunks:\n",
    "            if i < len(chunk):\n",
    "                result.append(chunk[i])\n",
    "\n",
    "    return ''.join(result)\n",
    "\n",
    "def encrypt_xor_with_changing_key_by_prev_cipher_longer_key(text : str, key_list : list, mode):\n",
    "    encrypted_chunk = []\n",
    "    for idx,char in enumerate(chunk_string(text, len(key_list))):\n",
    "        encrypted_chunk.append(encrypt_xor_with_changing_key_by_prev_cipher(char, key_list[idx], mode))\n",
    "    return reverse_chunk_string(encrypted_chunk)"
   ]
  },
  {
   "cell_type": "code",
   "execution_count": 78,
   "metadata": {},
   "outputs": [],
   "source": [
    "key_list = [0x20, 0x44, 0x54,0x20]"
   ]
  },
  {
   "cell_type": "code",
   "execution_count": 79,
   "metadata": {},
   "outputs": [
    {
     "data": {
      "text/plain": [
       "'A&7D$@P'"
      ]
     },
     "execution_count": 79,
     "metadata": {},
     "output_type": "execute_result"
    }
   ],
   "source": [
    "encrypt_xor_with_changing_key_by_prev_cipher_longer_key('abcdefg', key_list, 'encrypt')"
   ]
  },
  {
   "cell_type": "code",
   "execution_count": 80,
   "metadata": {},
   "outputs": [
    {
     "data": {
      "text/plain": [
       "'A%5B#GW'"
      ]
     },
     "execution_count": 80,
     "metadata": {},
     "output_type": "execute_result"
    }
   ],
   "source": [
    "encrypt_xor_with_changing_key_by_prev_cipher_longer_key('aaabbbb', key_list, 'encrypt')"
   ]
  },
  {
   "cell_type": "code",
   "execution_count": 81,
   "metadata": {},
   "outputs": [
    {
     "data": {
      "text/plain": [
       "'abcdefg'"
      ]
     },
     "execution_count": 81,
     "metadata": {},
     "output_type": "execute_result"
    }
   ],
   "source": [
    "encrypt_xor_with_changing_key_by_prev_cipher_longer_key(encrypt_xor_with_changing_key_by_prev_cipher_longer_key('abcdefg',key_list,'encrypt'),key_list,'decrypt')"
   ]
  },
  {
   "cell_type": "code",
   "execution_count": 82,
   "metadata": {},
   "outputs": [
    {
     "data": {
      "text/plain": [
       "'Hellobello, it will work for a long message as well'"
      ]
     },
     "execution_count": 82,
     "metadata": {},
     "output_type": "execute_result"
    }
   ],
   "source": [
    "encrypt_xor_with_changing_key_by_prev_cipher_longer_key(encrypt_xor_with_changing_key_by_prev_cipher_longer_key('Hellobello, it will work for a long message as well',key_list,'encrypt'),key_list,'decrypt')"
   ]
  },
  {
   "cell_type": "code",
   "execution_count": 83,
   "metadata": {},
   "outputs": [
    {
     "data": {
      "text/plain": [
       "'h!8L\\x07C] k,q\\x00\\x02XQwk4=W\\x1c[O<<= N\\x1c\\\\\\x00\"s2g\\x02\\x1eW\\x14q\\x7f0qQ\\x1eCQ&{/='"
      ]
     },
     "execution_count": 83,
     "metadata": {},
     "output_type": "execute_result"
    }
   ],
   "source": [
    "encrypt_xor_with_changing_key_by_prev_cipher_longer_key('Hellobello, it will work for a long message as well',key_list,'encrypt')"
   ]
  },
  {
   "cell_type": "code",
   "execution_count": 123,
   "metadata": {},
   "outputs": [],
   "source": [
    "def encrypt_by_add_mod(string, key):\n",
    "\n",
    "    encryptedStr = []\n",
    "    for c in string:\n",
    "        encryptedStr.append(chr((ord(c) + key) % 256))\n",
    " \n",
    "    return ''.join(encryptedStr)\n",
    " \n",
    "def encrypt_xor_with_changing_key_by_prev_cipher(string, key, action = 'encrypt'):\n",
    "   \n",
    "    processedStr = []\n",
    " \n",
    "    if action == 'encrypt':\n",
    "        for c in string:\n",
    "            key = ord(c) ^ key\n",
    "            processedStr.append(chr(key))\n",
    "    elif action == 'decrypt':\n",
    "        revStr = ''.join(reversed(string))\n",
    "        for i in range(0, len(string)):\n",
    "            dec = (key if (i >= (len(string) - 1)) else ord(revStr[1 + i])) ^ ord(revStr[i])\n",
    "            processedStr.append(chr(dec))\n",
    "        processedStr = ''.join(reversed(processedStr))\n",
    "    else:\n",
    "        return 'Wrong action'\n",
    " \n",
    "    return ''.join(processedStr)\n",
    " \n",
    "def do_chunk(string, length):\n",
    "    chunk = []\n",
    "    for iKey in range(0, length):\n",
    "        group = []\n",
    "        for i in range(0, len(string)):\n",
    "            if (i % length == iKey):\n",
    "                group.append(string[i])\n",
    "        chunk.append(group)\n",
    "    return chunk\n",
    " \n",
    "def do_unchunk(string, length):\n",
    "    output = []\n",
    "    for c in do_chunk(string, length):\n",
    "        \n",
    "        output.append(c)\n",
    "    print(output)\n",
    "    return ''.join(output)\n",
    " \n",
    "def encrypt_xor_with_changing_key_by_prev_cipher_longer_key(string, key_list, action):\n",
    "    chunk = do_chunk(string, len(key_list))\n",
    "    xored = ''.join(\n",
    "        encrypt_xor_with_changing_key_by_prev_cipher(\n",
    "            ''.join(chunk[i]),\n",
    "            key_list[i],\n",
    "            action\n",
    "        ) for i in range(0, len(chunk)))\n",
    "    return do_unchunk(xored, len(key_list))\n"
   ]
  },
  {
   "cell_type": "code",
   "execution_count": 124,
   "metadata": {},
   "outputs": [
    {
     "name": "stdout",
     "output_type": "stream",
     "text": [
      "[['A', '7'], ['$', 'P'], ['&', 'D'], ['@']]\n"
     ]
    },
    {
     "ename": "TypeError",
     "evalue": "sequence item 0: expected str instance, list found",
     "output_type": "error",
     "traceback": [
      "\u001b[0;31m---------------------------------------------------------------------------\u001b[0m",
      "\u001b[0;31mTypeError\u001b[0m                                 Traceback (most recent call last)",
      "\u001b[1;32m/Users/gayuhkautaman/Documents/code/python/computer_security/5week/trial.ipynb Cell 20\u001b[0m line \u001b[0;36m1\n\u001b[0;32m----> <a href='vscode-notebook-cell:/Users/gayuhkautaman/Documents/code/python/computer_security/5week/trial.ipynb#X33sZmlsZQ%3D%3D?line=0'>1</a>\u001b[0m encrypt_xor_with_changing_key_by_prev_cipher_longer_key(encrypt_xor_with_changing_key_by_prev_cipher_longer_key(\u001b[39m'\u001b[39;49m\u001b[39mabcdefg\u001b[39;49m\u001b[39m'\u001b[39;49m,key_list,\u001b[39m'\u001b[39;49m\u001b[39mencrypt\u001b[39;49m\u001b[39m'\u001b[39;49m),key_list,\u001b[39m'\u001b[39m\u001b[39mdecrypt\u001b[39m\u001b[39m'\u001b[39m)\n",
      "\u001b[1;32m/Users/gayuhkautaman/Documents/code/python/computer_security/5week/trial.ipynb Cell 20\u001b[0m line \u001b[0;36m5\n\u001b[1;32m     <a href='vscode-notebook-cell:/Users/gayuhkautaman/Documents/code/python/computer_security/5week/trial.ipynb#X33sZmlsZQ%3D%3D?line=45'>46</a>\u001b[0m chunk \u001b[39m=\u001b[39m do_chunk(string, \u001b[39mlen\u001b[39m(key_list))\n\u001b[1;32m     <a href='vscode-notebook-cell:/Users/gayuhkautaman/Documents/code/python/computer_security/5week/trial.ipynb#X33sZmlsZQ%3D%3D?line=46'>47</a>\u001b[0m xored \u001b[39m=\u001b[39m \u001b[39m'\u001b[39m\u001b[39m'\u001b[39m\u001b[39m.\u001b[39mjoin(\n\u001b[1;32m     <a href='vscode-notebook-cell:/Users/gayuhkautaman/Documents/code/python/computer_security/5week/trial.ipynb#X33sZmlsZQ%3D%3D?line=47'>48</a>\u001b[0m     encrypt_xor_with_changing_key_by_prev_cipher(\n\u001b[1;32m     <a href='vscode-notebook-cell:/Users/gayuhkautaman/Documents/code/python/computer_security/5week/trial.ipynb#X33sZmlsZQ%3D%3D?line=48'>49</a>\u001b[0m         \u001b[39m'\u001b[39m\u001b[39m'\u001b[39m\u001b[39m.\u001b[39mjoin(chunk[i]),\n\u001b[1;32m     <a href='vscode-notebook-cell:/Users/gayuhkautaman/Documents/code/python/computer_security/5week/trial.ipynb#X33sZmlsZQ%3D%3D?line=49'>50</a>\u001b[0m         key_list[i],\n\u001b[1;32m     <a href='vscode-notebook-cell:/Users/gayuhkautaman/Documents/code/python/computer_security/5week/trial.ipynb#X33sZmlsZQ%3D%3D?line=50'>51</a>\u001b[0m         action\n\u001b[1;32m     <a href='vscode-notebook-cell:/Users/gayuhkautaman/Documents/code/python/computer_security/5week/trial.ipynb#X33sZmlsZQ%3D%3D?line=51'>52</a>\u001b[0m     ) \u001b[39mfor\u001b[39;00m i \u001b[39min\u001b[39;00m \u001b[39mrange\u001b[39m(\u001b[39m0\u001b[39m, \u001b[39mlen\u001b[39m(chunk)))\n\u001b[0;32m---> <a href='vscode-notebook-cell:/Users/gayuhkautaman/Documents/code/python/computer_security/5week/trial.ipynb#X33sZmlsZQ%3D%3D?line=52'>53</a>\u001b[0m \u001b[39mreturn\u001b[39;00m do_unchunk(xored, \u001b[39mlen\u001b[39;49m(key_list))\n",
      "\u001b[1;32m/Users/gayuhkautaman/Documents/code/python/computer_security/5week/trial.ipynb Cell 20\u001b[0m line \u001b[0;36m4\n\u001b[1;32m     <a href='vscode-notebook-cell:/Users/gayuhkautaman/Documents/code/python/computer_security/5week/trial.ipynb#X33sZmlsZQ%3D%3D?line=40'>41</a>\u001b[0m     output\u001b[39m.\u001b[39mappend(c)\n\u001b[1;32m     <a href='vscode-notebook-cell:/Users/gayuhkautaman/Documents/code/python/computer_security/5week/trial.ipynb#X33sZmlsZQ%3D%3D?line=41'>42</a>\u001b[0m \u001b[39mprint\u001b[39m(output)\n\u001b[0;32m---> <a href='vscode-notebook-cell:/Users/gayuhkautaman/Documents/code/python/computer_security/5week/trial.ipynb#X33sZmlsZQ%3D%3D?line=42'>43</a>\u001b[0m \u001b[39mreturn\u001b[39;00m \u001b[39m'\u001b[39;49m\u001b[39m'\u001b[39;49m\u001b[39m.\u001b[39;49mjoin(output)\n",
      "\u001b[0;31mTypeError\u001b[0m: sequence item 0: expected str instance, list found"
     ]
    }
   ],
   "source": [
    "encrypt_xor_with_changing_key_by_prev_cipher_longer_key(encrypt_xor_with_changing_key_by_prev_cipher_longer_key('abcdefg',key_list,'encrypt'),key_list,'decrypt')"
   ]
  },
  {
   "cell_type": "code",
   "execution_count": 122,
   "metadata": {},
   "outputs": [
    {
     "ename": "TypeError",
     "evalue": "sequence item 0: expected str instance, list found",
     "output_type": "error",
     "traceback": [
      "\u001b[0;31m---------------------------------------------------------------------------\u001b[0m",
      "\u001b[0;31mTypeError\u001b[0m                                 Traceback (most recent call last)",
      "\u001b[1;32m/Users/gayuhkautaman/Documents/code/python/computer_security/5week/trial.ipynb Cell 21\u001b[0m line \u001b[0;36m1\n\u001b[0;32m----> <a href='vscode-notebook-cell:/Users/gayuhkautaman/Documents/code/python/computer_security/5week/trial.ipynb#X35sZmlsZQ%3D%3D?line=0'>1</a>\u001b[0m encrypt_xor_with_changing_key_by_prev_cipher_longer_key(encrypt_xor_with_changing_key_by_prev_cipher_longer_key(\u001b[39m'\u001b[39;49m\u001b[39mHellobello, it will work for a long message as well\u001b[39;49m\u001b[39m'\u001b[39;49m,key_list,\u001b[39m'\u001b[39;49m\u001b[39mencrypt\u001b[39;49m\u001b[39m'\u001b[39;49m),key_list,\u001b[39m'\u001b[39m\u001b[39mdecrypt\u001b[39m\u001b[39m'\u001b[39m)\n",
      "\u001b[1;32m/Users/gayuhkautaman/Documents/code/python/computer_security/5week/trial.ipynb Cell 21\u001b[0m line \u001b[0;36m5\n\u001b[1;32m     <a href='vscode-notebook-cell:/Users/gayuhkautaman/Documents/code/python/computer_security/5week/trial.ipynb#X35sZmlsZQ%3D%3D?line=45'>46</a>\u001b[0m chunk \u001b[39m=\u001b[39m do_chunk(string, \u001b[39mlen\u001b[39m(key_list))\n\u001b[1;32m     <a href='vscode-notebook-cell:/Users/gayuhkautaman/Documents/code/python/computer_security/5week/trial.ipynb#X35sZmlsZQ%3D%3D?line=46'>47</a>\u001b[0m xored \u001b[39m=\u001b[39m \u001b[39m'\u001b[39m\u001b[39m'\u001b[39m\u001b[39m.\u001b[39mjoin(\n\u001b[1;32m     <a href='vscode-notebook-cell:/Users/gayuhkautaman/Documents/code/python/computer_security/5week/trial.ipynb#X35sZmlsZQ%3D%3D?line=47'>48</a>\u001b[0m     encrypt_xor_with_changing_key_by_prev_cipher(\n\u001b[1;32m     <a href='vscode-notebook-cell:/Users/gayuhkautaman/Documents/code/python/computer_security/5week/trial.ipynb#X35sZmlsZQ%3D%3D?line=48'>49</a>\u001b[0m         \u001b[39m'\u001b[39m\u001b[39m'\u001b[39m\u001b[39m.\u001b[39mjoin(chunk[i]),\n\u001b[1;32m     <a href='vscode-notebook-cell:/Users/gayuhkautaman/Documents/code/python/computer_security/5week/trial.ipynb#X35sZmlsZQ%3D%3D?line=49'>50</a>\u001b[0m         key_list[i],\n\u001b[1;32m     <a href='vscode-notebook-cell:/Users/gayuhkautaman/Documents/code/python/computer_security/5week/trial.ipynb#X35sZmlsZQ%3D%3D?line=50'>51</a>\u001b[0m         action\n\u001b[1;32m     <a href='vscode-notebook-cell:/Users/gayuhkautaman/Documents/code/python/computer_security/5week/trial.ipynb#X35sZmlsZQ%3D%3D?line=51'>52</a>\u001b[0m     ) \u001b[39mfor\u001b[39;00m i \u001b[39min\u001b[39;00m \u001b[39mrange\u001b[39m(\u001b[39m0\u001b[39m, \u001b[39mlen\u001b[39m(chunk)))\n\u001b[0;32m---> <a href='vscode-notebook-cell:/Users/gayuhkautaman/Documents/code/python/computer_security/5week/trial.ipynb#X35sZmlsZQ%3D%3D?line=52'>53</a>\u001b[0m \u001b[39mreturn\u001b[39;00m do_unchunk(xored, \u001b[39mlen\u001b[39;49m(key_list))\n",
      "\u001b[1;32m/Users/gayuhkautaman/Documents/code/python/computer_security/5week/trial.ipynb Cell 21\u001b[0m line \u001b[0;36m4\n\u001b[1;32m     <a href='vscode-notebook-cell:/Users/gayuhkautaman/Documents/code/python/computer_security/5week/trial.ipynb#X35sZmlsZQ%3D%3D?line=39'>40</a>\u001b[0m \u001b[39mfor\u001b[39;00m c \u001b[39min\u001b[39;00m do_chunk(string, length):\n\u001b[1;32m     <a href='vscode-notebook-cell:/Users/gayuhkautaman/Documents/code/python/computer_security/5week/trial.ipynb#X35sZmlsZQ%3D%3D?line=40'>41</a>\u001b[0m     output\u001b[39m.\u001b[39mappend(c)\n\u001b[0;32m---> <a href='vscode-notebook-cell:/Users/gayuhkautaman/Documents/code/python/computer_security/5week/trial.ipynb#X35sZmlsZQ%3D%3D?line=42'>43</a>\u001b[0m \u001b[39mreturn\u001b[39;00m \u001b[39m'\u001b[39;49m\u001b[39m'\u001b[39;49m\u001b[39m.\u001b[39;49mjoin(output)\n",
      "\u001b[0;31mTypeError\u001b[0m: sequence item 0: expected str instance, list found"
     ]
    }
   ],
   "source": [
    "encrypt_xor_with_changing_key_by_prev_cipher_longer_key(encrypt_xor_with_changing_key_by_prev_cipher_longer_key('Hellobello, it will work for a long message as well',key_list,'encrypt'),key_list,'decrypt')"
   ]
  },
  {
   "cell_type": "code",
   "execution_count": null,
   "metadata": {},
   "outputs": [],
   "source": []
  }
 ],
 "metadata": {
  "kernelspec": {
   "display_name": "Python 3",
   "language": "python",
   "name": "python3"
  },
  "language_info": {
   "codemirror_mode": {
    "name": "ipython",
    "version": 3
   },
   "file_extension": ".py",
   "mimetype": "text/x-python",
   "name": "python",
   "nbconvert_exporter": "python",
   "pygments_lexer": "ipython3",
   "version": "3.11.3"
  },
  "orig_nbformat": 4
 },
 "nbformat": 4,
 "nbformat_minor": 2
}
