{
 "cells": [
  {
   "cell_type": "code",
   "execution_count": 47,
   "metadata": {},
   "outputs": [],
   "source": [
    "def letter_score(text):\n",
    "    probability = {\n",
    "    \"e\": 10.984012884727973,\n",
    "    \"i\": 8.954280134924268,\n",
    "    \"a\": 8.322183512716474,\n",
    "    \"s\": 8.267897651036094,\n",
    "    \"o\": 7.1027394245509345,\n",
    "    \"r\": 7.020600703586417,\n",
    "    \"n\": 6.871444737513424,\n",
    "    \"t\": 6.585556553136487,\n",
    "    \"l\": 5.348742882375743,\n",
    "    \"c\": 4.197972539021217,\n",
    "    \"u\": 3.4867188953134782,\n",
    "    \"d\": 3.248135609584791,\n",
    "    \"p\": 3.206320824236389,\n",
    "    \"m\": 3.0029973178903386,\n",
    "    \"h\": 2.725509953433427,\n",
    "    \"g\": 2.4479515961321203,\n",
    "    \"y\": 1.8032655761850245,\n",
    "    \"b\": 1.788783035928532,\n",
    "    \"f\": 1.1381809456152217,\n",
    "    \"v\": 0.8834586199275021,\n",
    "    \"k\": 0.8482225048263302,\n",
    "    \"w\": 0.7037993950463086,\n",
    "    \"z\": 0.4429953490221209,\n",
    "    \"x\": 0.29400503291938196,\n",
    "    \"q\": 0.16456141330661478,\n",
    "    \"j\": 0.1596629070433894,\n",
    "    \" \": 0.13,\n",
    "    }\n",
    "    return sum([probability.get(char,0) for char in text.lower()])\n",
    "    \n",
    "\n",
    "def decrypt_single_byte_xor(encrypted):\n",
    "    converted = bytes.fromhex(encrypted)\n",
    "    possible_text = []\n",
    "    for key in range(256):\n",
    "        decrypted_text = ''.join(chr(c ^ key) for c in converted)\n",
    "        possible_text.append([decrypted_text, letter_score(decrypted_text)])\n",
    "    print(max(possible_text, key = lambda x: x[1])[0])\n",
    "    \n",
    "    # print(max(possible_text, key = lambda x: letter_score(x)))\n",
    "        \n",
    "    "
   ]
  },
  {
   "cell_type": "code",
   "execution_count": 48,
   "metadata": {},
   "outputs": [
    {
     "name": "stdout",
     "output_type": "stream",
     "text": [
      "Hi! You have found me!\n"
     ]
    }
   ],
   "source": [
    "decrypt_single_byte_xor('e9c88081f8ced481c9c0d7c481c7ced4cfc581ccc480')\n"
   ]
  },
  {
   "cell_type": "code",
   "execution_count": 49,
   "metadata": {},
   "outputs": [
    {
     "name": "stdout",
     "output_type": "stream",
     "text": [
      "Congratulations you have find the password!\n"
     ]
    }
   ],
   "source": [
    "decrypt_single_byte_xor('b29e9f96839085849d9085989e9f82d1889e84d199908794d197989f95d1859994d181908282869e8395d0')\n"
   ]
  },
  {
   "cell_type": "code",
   "execution_count": 50,
   "metadata": {},
   "outputs": [
    {
     "name": "stdout",
     "output_type": "stream",
     "text": [
      "Who knows what is happening? Where am I?\n"
     ]
    }
   ],
   "source": [
    "decrypt_single_byte_xor('e1ded996ddd8d9c1c596c1ded7c296dfc596ded7c6c6d3d8dfd8d18996e1ded3c4d396d7db96ff89')\n"
   ]
  },
  {
   "cell_type": "markdown",
   "metadata": {},
   "source": [
    "# Weeek 5"
   ]
  },
  {
   "cell_type": "code",
   "execution_count": 53,
   "metadata": {},
   "outputs": [],
   "source": [
    "def encrypt_by_add_mod(text,key):\n",
    "    encrypted_text = []\n",
    "    for char in text:\n",
    "        encrypted_text.append(chr(ord(char)+ key % 256))\n",
    "        \n",
    "    print(''.join(encrypted_text))"
   ]
  },
  {
   "cell_type": "code",
   "execution_count": 54,
   "metadata": {},
   "outputs": [
    {
     "name": "stdout",
     "output_type": "stream",
     "text": [
      "Ãàççê\n"
     ]
    }
   ],
   "source": [
    "encrypt_by_add_mod('Hello',123)"
   ]
  },
  {
   "cell_type": "code",
   "execution_count": 78,
   "metadata": {},
   "outputs": [],
   "source": [
    "def encrypt_xor_with_changing_key_by_prev_cipher(text, key, mode):\n",
    "    result = []\n",
    "    for char in text:\n",
    "        if mode == 'encrypt':\n",
    "            single_byte = ord(char) ^ key\n",
    "            result.append(chr(single_byte))\n",
    "            key = single_byte\n",
    "        elif mode == 'decrypt':\n",
    "            single_byte = ord(char) ^ key\n",
    "            result.append(chr(single_byte))\n",
    "            key = ord(char)\n",
    "            \n",
    "    return ''.join(result)"
   ]
  },
  {
   "cell_type": "code",
   "execution_count": 79,
   "metadata": {},
   "outputs": [
    {
     "data": {
      "text/plain": [
       "'3V:V9'"
      ]
     },
     "execution_count": 79,
     "metadata": {},
     "output_type": "execute_result"
    }
   ],
   "source": [
    "encrypt_xor_with_changing_key_by_prev_cipher('Hello',123,'encrypt')"
   ]
  },
  {
   "cell_type": "code",
   "execution_count": 80,
   "metadata": {},
   "outputs": [
    {
     "data": {
      "text/plain": [
       "'Hello'"
      ]
     },
     "execution_count": 80,
     "metadata": {},
     "output_type": "execute_result"
    }
   ],
   "source": [
    "encrypt_xor_with_changing_key_by_prev_cipher(encrypt_xor_with_changing_key_by_prev_cipher('Hello',123,'encrypt'),123,'decrypt')"
   ]
  },
  {
   "cell_type": "code",
   "execution_count": 81,
   "metadata": {},
   "outputs": [
    {
     "data": {
      "text/plain": [
       "'Cryptography'"
      ]
     },
     "execution_count": 81,
     "metadata": {},
     "output_type": "execute_result"
    }
   ],
   "source": [
    "encrypt_xor_with_changing_key_by_prev_cipher(encrypt_xor_with_changing_key_by_prev_cipher('Cryptography',10,'encrypt'),10,'decrypt')"
   ]
  },
  {
   "cell_type": "code",
   "execution_count": 114,
   "metadata": {},
   "outputs": [],
   "source": [
    "key_list = [0x20, 0x44, 0x54,0x20]"
   ]
  },
  {
   "cell_type": "code",
   "execution_count": 209,
   "metadata": {},
   "outputs": [],
   "source": [
    "def chunked_text(text, slice):\n",
    "    return [text[i:: slice] for i in range(slice)]\n",
    "\n",
    "def unchunked_text(chunk):\n",
    "    s = ''\n",
    "    for j in range(0, len(max(chunk, key=len))):\n",
    "        for elem in chunk:\n",
    "            if len(elem) > j:\n",
    "                s += elem[j]\n",
    "    return s\n",
    "        \n",
    "def encrypt_xor_with_changing_key_by_prev_cipher_longer_key(string, key, mode):\n",
    "    chunked = chunked_text(string,len(key_list))\n",
    "    result = []\n",
    "    for idx, chars in enumerate(chunked):\n",
    "        result.append(encrypt_xor_with_changing_key_by_prev_cipher(chars, key_list[idx], mode))\n",
    "    return unchunked_text(result)"
   ]
  },
  {
   "cell_type": "code",
   "execution_count": 210,
   "metadata": {},
   "outputs": [
    {
     "data": {
      "text/plain": [
       "'A&7D$@P'"
      ]
     },
     "execution_count": 210,
     "metadata": {},
     "output_type": "execute_result"
    }
   ],
   "source": [
    "encrypt_xor_with_changing_key_by_prev_cipher_longer_key('abcdefg', key_list, 'encrypt')"
   ]
  },
  {
   "cell_type": "code",
   "execution_count": 203,
   "metadata": {},
   "outputs": [
    {
     "data": {
      "text/plain": [
       "'A%5B#GW'"
      ]
     },
     "execution_count": 203,
     "metadata": {},
     "output_type": "execute_result"
    }
   ],
   "source": [
    "encrypt_xor_with_changing_key_by_prev_cipher_longer_key('aaabbbb', key_list, 'encrypt')"
   ]
  },
  {
   "cell_type": "code",
   "execution_count": 204,
   "metadata": {},
   "outputs": [
    {
     "data": {
      "text/plain": [
       "'abcdefg'"
      ]
     },
     "execution_count": 204,
     "metadata": {},
     "output_type": "execute_result"
    }
   ],
   "source": [
    "encrypt_xor_with_changing_key_by_prev_cipher_longer_key(encrypt_xor_with_changing_key_by_prev_cipher_longer_key('abcdefg',key_list,'encrypt'),key_list,'decrypt')"
   ]
  },
  {
   "cell_type": "code",
   "execution_count": 205,
   "metadata": {},
   "outputs": [
    {
     "data": {
      "text/plain": [
       "'Hellobello, it will work for a long message as well'"
      ]
     },
     "execution_count": 205,
     "metadata": {},
     "output_type": "execute_result"
    }
   ],
   "source": [
    "encrypt_xor_with_changing_key_by_prev_cipher_longer_key(encrypt_xor_with_changing_key_by_prev_cipher_longer_key('Hellobello, it will work for a long message as well',key_list,'encrypt'), key_list,'decrypt')"
   ]
  },
  {
   "cell_type": "code",
   "execution_count": 239,
   "metadata": {},
   "outputs": [
    {
     "name": "stdout",
     "output_type": "stream",
     "text": [
      "0\n",
      "1\n",
      "2\n"
     ]
    }
   ],
   "source": [
    "chunk = chunked_text('abcdefghij',len(key_list))\n",
    "s = ''\n",
    "for j in range(0, len(max(chunk, key=len))):\n",
    "    for elem in chunk:\n",
    "        if len(elem) > j:\n",
    "            s += elem[j]"
   ]
  },
  {
   "cell_type": "code",
   "execution_count": 230,
   "metadata": {},
   "outputs": [
    {
     "data": {
      "text/plain": [
       "'abcdefghij'"
      ]
     },
     "execution_count": 230,
     "metadata": {},
     "output_type": "execute_result"
    }
   ],
   "source": [
    "s"
   ]
  },
  {
   "cell_type": "code",
   "execution_count": 231,
   "metadata": {},
   "outputs": [
    {
     "data": {
      "text/plain": [
       "['aei', 'bfj', 'cg', 'dh']"
      ]
     },
     "execution_count": 231,
     "metadata": {},
     "output_type": "execute_result"
    }
   ],
   "source": [
    "chunk"
   ]
  },
  {
   "cell_type": "code",
   "execution_count": 256,
   "metadata": {},
   "outputs": [
    {
     "name": "stdout",
     "output_type": "stream",
     "text": [
      "a\n",
      "b\n",
      "c\n",
      "d\n",
      "e\n",
      "f\n",
      "g\n",
      "h\n",
      "i\n",
      "j\n"
     ]
    }
   ],
   "source": [
    "result=[]\n",
    "for idx in range(0,len(max(chunk, key=len))):\n",
    "    for char in chunk:\n",
    "        if idx < len(char):\n",
    "            print(char[idx])"
   ]
  },
  {
   "cell_type": "code",
   "execution_count": 250,
   "metadata": {},
   "outputs": [
    {
     "data": {
      "text/plain": [
       "[]"
      ]
     },
     "execution_count": 250,
     "metadata": {},
     "output_type": "execute_result"
    }
   ],
   "source": [
    "result"
   ]
  },
  {
   "cell_type": "code",
   "execution_count": null,
   "metadata": {},
   "outputs": [],
   "source": []
  }
 ],
 "metadata": {
  "kernelspec": {
   "display_name": "Python 3",
   "language": "python",
   "name": "python3"
  },
  "language_info": {
   "codemirror_mode": {
    "name": "ipython",
    "version": 3
   },
   "file_extension": ".py",
   "mimetype": "text/x-python",
   "name": "python",
   "nbconvert_exporter": "python",
   "pygments_lexer": "ipython3",
   "version": "3.11.3"
  },
  "orig_nbformat": 4
 },
 "nbformat": 4,
 "nbformat_minor": 2
}
