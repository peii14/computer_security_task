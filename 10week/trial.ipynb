{
 "cells": [
  {
   "cell_type": "code",
   "execution_count": 7,
   "metadata": {},
   "outputs": [],
   "source": [
    "def bytes2binary(byte_array):\n",
    "    interpreted_bytes = byte_array.decode('unicode_escape').encode('latin1')\n",
    "    return ''.join(format(byte, '08b') for byte in interpreted_bytes)"
   ]
  },
  {
   "cell_type": "code",
   "execution_count": 8,
   "metadata": {},
   "outputs": [
    {
     "data": {
      "text/plain": [
       "'00000001'"
      ]
     },
     "execution_count": 8,
     "metadata": {},
     "output_type": "execute_result"
    }
   ],
   "source": [
    "bytes2binary(b'\\\\x01')"
   ]
  },
  {
   "cell_type": "code",
   "execution_count": 9,
   "metadata": {},
   "outputs": [
    {
     "data": {
      "text/plain": [
       "'00000011'"
      ]
     },
     "execution_count": 9,
     "metadata": {},
     "output_type": "execute_result"
    }
   ],
   "source": [
    "bytes2binary(b'\\\\x03')"
   ]
  },
  {
   "cell_type": "code",
   "execution_count": 10,
   "metadata": {},
   "outputs": [
    {
     "data": {
      "text/plain": [
       "'1111000010000000'"
      ]
     },
     "execution_count": 10,
     "metadata": {},
     "output_type": "execute_result"
    }
   ],
   "source": [
    "bytes2binary(b'\\\\xf0\\\\x80')"
   ]
  },
  {
   "cell_type": "code",
   "execution_count": 13,
   "metadata": {},
   "outputs": [],
   "source": [
    "def binary2bytes(binary_string):\n",
    "    binary_string = binary_string.zfill(len(binary_string) + (8 - len(binary_string) % 8))    \n",
    "    return bytes(int(binary_string[i:i+8], 2) for i in range((8 - len(binary_string) % 8), len(binary_string), 8))\n"
   ]
  },
  {
   "cell_type": "code",
   "execution_count": 14,
   "metadata": {},
   "outputs": [
    {
     "data": {
      "text/plain": [
       "b'\\x01'"
      ]
     },
     "execution_count": 14,
     "metadata": {},
     "output_type": "execute_result"
    }
   ],
   "source": [
    "binary2bytes('00000001')"
   ]
  },
  {
   "cell_type": "code",
   "execution_count": 36,
   "metadata": {},
   "outputs": [
    {
     "data": {
      "text/plain": [
       "b'\\x03'"
      ]
     },
     "execution_count": 36,
     "metadata": {},
     "output_type": "execute_result"
    }
   ],
   "source": [
    "binary2bytes('00000011')"
   ]
  },
  {
   "cell_type": "code",
   "execution_count": 37,
   "metadata": {},
   "outputs": [
    {
     "data": {
      "text/plain": [
       "b'\\xf0\\x80'"
      ]
     },
     "execution_count": 37,
     "metadata": {},
     "output_type": "execute_result"
    }
   ],
   "source": [
    "binary2bytes('1111000010000000')"
   ]
  },
  {
   "cell_type": "code",
   "execution_count": 9,
   "metadata": {},
   "outputs": [
    {
     "data": {
      "text/plain": [
       "b'\\\\xf0'"
      ]
     },
     "execution_count": 9,
     "metadata": {},
     "output_type": "execute_result"
    }
   ],
   "source": [
    "binary2bytes('11110000')"
   ]
  },
  {
   "cell_type": "code",
   "execution_count": 4,
   "metadata": {},
   "outputs": [],
   "source": [
    "def bin_xor(binary_string, binary_operator):\n",
    "    tmp_len = max(len(binary_string), len(binary_operator))\n",
    "    return bin(int(binary_string, 2) ^ int(binary_operator, 2))[2:].zfill(tmp_len)\n",
    "    # binary_string = binary_string.zfill(\n",
    "    #     len(binary_string) + (32 - len(binary_string) % 32))\n",
    "    # binary_operator = binary_operator.zfill(\n",
    "    #     len(binary_operator) + (32 - len(binary_operator) % 32))"
   ]
  },
  {
   "cell_type": "code",
   "execution_count": 5,
   "metadata": {},
   "outputs": [
    {
     "data": {
      "text/plain": [
       "'1011'"
      ]
     },
     "execution_count": 5,
     "metadata": {},
     "output_type": "execute_result"
    }
   ],
   "source": [
    "bin_xor('1011','0000')"
   ]
  },
  {
   "cell_type": "code",
   "execution_count": 6,
   "metadata": {},
   "outputs": [
    {
     "data": {
      "text/plain": [
       "'0001'"
      ]
     },
     "execution_count": 6,
     "metadata": {},
     "output_type": "execute_result"
    }
   ],
   "source": [
    "bin_xor('1','0000')"
   ]
  },
  {
   "cell_type": "code",
   "execution_count": 7,
   "metadata": {},
   "outputs": [
    {
     "data": {
      "text/plain": [
       "'0110'"
      ]
     },
     "execution_count": 7,
     "metadata": {},
     "output_type": "execute_result"
    }
   ],
   "source": [
    "bin_xor('1101','1011')"
   ]
  },
  {
   "cell_type": "code",
   "execution_count": 8,
   "metadata": {},
   "outputs": [
    {
     "data": {
      "text/plain": [
       "'11111111'"
      ]
     },
     "execution_count": 8,
     "metadata": {},
     "output_type": "execute_result"
    }
   ],
   "source": [
    "bin_xor('10101010','01010101') "
   ]
  },
  {
   "cell_type": "code",
   "execution_count": 9,
   "metadata": {},
   "outputs": [],
   "source": [
    "#tables for key generation\n",
    "key_shifts = [1, 1, 2, 2, 2, 2, 2, 2, 1, 2, 2, 2, 2, 2, 2, 1]\n",
    "\n",
    "PC1 = [57, 49, 41, 33, 25, 17, 9, 1, 58, 50, 42, 34, 26, 18, 10, 2, 59, 51, 43, 35, 27, 19, 11, 3, 60, 52, 44, 36, 63,\n",
    "       55, 47, 39, 31, 23, 15, 7, 62, 54, 46, 38, 30, 22, 14, 6, 61, 53, 45, 37, 29, 21, 13, 5, 28, 20, 12, 4]\n",
    "\n",
    "PC2 = [14, 17, 11, 24, 1, 5, 3, 28, 15, 6, 21, 10, 23, 19, 12, 4, 26, 8, 16, 7, 27, 20, 13, 2, 41, 52, 31, 37, 47, 55,\n",
    "       30, 40, 51, 45, 33, 48, 44, 49, 39, 56, 34, 53, 46, 42, 50, 36, 29, 32]\n",
    "\n",
    "# tables for encryption\n",
    "\n",
    "IP = [58, 50, 42, 34, 26, 18, 10, 2,\n",
    "      60, 52, 44, 36, 28, 20, 12, 4,\n",
    "      62, 54, 46, 38, 30, 22, 14, 6,\n",
    "      64, 56, 48, 40, 32, 24, 16, 8,\n",
    "      57, 49, 41, 33, 25, 17, 9, 1,\n",
    "      59, 51, 43, 35, 27, 19, 11, 3,\n",
    "      61, 53, 45, 37, 29, 21, 13, 5,\n",
    "      63, 55, 47, 39, 31, 23, 15, 7]\n",
    "IP_inverse = [40, 8, 48, 16, 56, 24, 64, 32,\n",
    "              39, 7, 47, 15, 55, 23, 63, 31,\n",
    "              38, 6, 46, 14, 54, 22, 62, 30,\n",
    "              37, 5, 45, 13, 53, 21, 61, 29,\n",
    "              36, 4, 44, 12, 52, 20, 60, 28,\n",
    "              35, 3, 43, 11, 51, 19, 59, 27,\n",
    "              34, 2, 42, 10, 50, 18, 58, 26,\n",
    "              33, 1, 41, 9, 49, 17, 57, 25]\n",
    "\n",
    "\n",
    "# Tables for function f\n",
    "\n",
    "E = [32, 1, 2, 3, 4, 5, 4, 5, 6, 7, 8, 9, 8, 9, 10, 11, 12, 13, 12, 13, 14, 15, 16, 17, 16, 17, 18, 19, 20, 21, 20, 21,\n",
    "     22, 23, 24, 25, 24, 25, 26, 27, 28, 29, 28, 29, 30, 31, 32, 1]\n",
    "\n",
    "S = \\\n",
    "[\n",
    "    [\n",
    "        [14, 4, 13, 1, 2, 15, 11, 8, 3, 10, 6, 12, 5, 9, 0, 7],\n",
    "        [0, 15, 7, 4, 14, 2, 13, 1, 10, 6, 12, 11, 9, 5, 3, 8],\n",
    "        [4, 1, 14, 8, 13, 6, 2, 11, 15, 12, 9, 7, 3, 10, 5, 0],\n",
    "        [15, 12, 8, 2, 4, 9, 1, 7, 5, 11, 3, 14, 10, 0, 6, 13]\n",
    "    ],\n",
    "    [\n",
    "        [15, 1, 8, 14, 6, 11, 3, 4, 9, 7, 2, 13, 12, 0, 5, 10],\n",
    "        [3, 13, 4, 7, 15, 2, 8, 14, 12, 0, 1, 10, 6, 9, 11, 5],\n",
    "        [0, 14, 7, 11, 10, 4, 13, 1, 5, 8, 12, 6, 9, 3, 2, 15],\n",
    "        [13, 8, 10, 1, 3, 15, 4, 2, 11, 6, 7, 12, 0, 5, 14, 9]\n",
    "    ],\n",
    "    [\n",
    "        [10, 0, 9, 14, 6, 3, 15, 5, 1, 13, 12, 7, 11, 4, 2, 8],\n",
    "        [13, 7, 0, 9, 3, 4, 6, 10, 2, 8, 5, 14, 12, 11, 15, 1],\n",
    "        [13, 6, 4, 9, 8, 15, 3, 0, 11, 1, 2, 12, 5, 10, 14, 7],\n",
    "        [1, 10, 13, 0, 6, 9, 8, 7, 4, 15, 14, 3, 11, 5, 2, 12]\n",
    "    ],\n",
    "    [\n",
    "        [7, 13, 14, 3, 0, 6, 9, 10, 1, 2, 8, 5, 11, 12, 4, 15],\n",
    "        [13, 8, 11, 5, 6, 15, 0, 3, 4, 7, 2, 12, 1, 10, 14, 9],\n",
    "        [10, 6, 9, 0, 12, 11, 7, 13, 15, 1, 3, 14, 5, 2, 8, 4],\n",
    "        [3, 15, 0, 6, 10, 1, 13, 8, 9, 4, 5, 11, 12, 7, 2, 14]\n",
    "    ],\n",
    "    [\n",
    "        [2, 12, 4, 1, 7, 10, 11, 6, 8, 5, 3, 15, 13, 0, 14, 9],\n",
    "        [14, 11, 2, 12, 4, 7, 13, 1, 5, 0, 15, 10, 3, 9, 8, 6],\n",
    "        [4, 2, 1, 11, 10, 13, 7, 8, 15, 9, 12, 5, 6, 3, 0, 14],\n",
    "        [11, 8, 12, 7, 1, 14, 2, 13, 6, 15, 0, 9, 10, 4, 5, 3]\n",
    "    ],\n",
    "    [\n",
    "        [12, 1, 10, 15, 9, 2, 6, 8, 0, 13, 3, 4, 14, 7, 5, 11],\n",
    "        [10, 15, 4, 2, 7, 12, 9, 5, 6, 1, 13, 14, 0, 11, 3, 8],\n",
    "        [9, 14, 15, 5, 2, 8, 12, 3, 7, 0, 4, 10, 1, 13, 11, 6],\n",
    "        [4, 3, 2, 12, 9, 5, 15, 10, 11, 14, 1, 7, 6, 0, 8, 13]\n",
    "    ],\n",
    "    [\n",
    "        [4, 11, 2, 14, 15, 0, 8, 13, 3, 12, 9, 7, 5, 10, 6, 1],\n",
    "        [13, 0, 11, 7, 4, 9, 1, 10, 14, 3, 5, 12, 2, 15, 8, 6],\n",
    "        [1, 4, 11, 13, 12, 3, 7, 14, 10, 15, 6, 8, 0, 5, 9, 2],\n",
    "        [6, 11, 13, 8, 1, 4, 10, 7, 9, 5, 0, 15, 14, 2, 3, 12]\n",
    "    ],\n",
    "    [\n",
    "        [13, 2, 8, 4, 6, 15, 11, 1, 10, 9, 3, 14, 5, 0, 12, 7],\n",
    "        [1, 15, 13, 8, 10, 3, 7, 4, 12, 5, 6, 11, 0, 14, 9, 2],\n",
    "        [7, 11, 4, 1, 9, 12, 14, 2, 0, 6, 10, 13, 15, 3, 5, 8],\n",
    "        [2, 1, 14, 7, 4, 10, 8, 13, 15, 12, 9, 0, 3, 5, 6, 11]\n",
    "    ]\n",
    "]\n",
    "\n",
    "P = [\n",
    "    16, 7, 20, 21, 29, 12, 28, 17,\n",
    "    1, 15, 23, 26, 5, 18, 31, 10,\n",
    "    2, 8, 24, 14, 32, 27, 3, 9,\n",
    "    19, 13, 30, 6, 22, 11, 4, 25]"
   ]
  },
  {
   "cell_type": "code",
   "execution_count": 10,
   "metadata": {},
   "outputs": [],
   "source": [
    "def permutate(original, table):\n",
    "    return ''.join(original[i - 1] for i in table)\n",
    "\n",
    "def left_shift(key, shifts):\n",
    "    return key[shifts:] + key[:shifts]\n",
    "\n",
    "def create_DES_subkeys(key):\n",
    "    permuted_key = permutate(key, PC1)\n",
    "\n",
    "    left, right = permuted_key[:28], permuted_key[28:]\n",
    "\n",
    "    subkeys = []\n",
    "    for shifts in key_shifts:\n",
    "        left = left_shift(left, shifts)\n",
    "        right = left_shift(right, shifts)\n",
    "        combined_key = left + right\n",
    "        subkeys.append(permutate(combined_key, PC2))\n",
    "\n",
    "    return subkeys"
   ]
  },
  {
   "cell_type": "code",
   "execution_count": 11,
   "metadata": {},
   "outputs": [
    {
     "data": {
      "text/plain": [
       "True"
      ]
     },
     "execution_count": 11,
     "metadata": {},
     "output_type": "execute_result"
    }
   ],
   "source": [
    "create_DES_subkeys('0001001100110100010101110111100110011011101111001101111111110001') == ['000110110000001011101111111111000111000001110010', '011110011010111011011001110110111100100111100101', '010101011111110010001010010000101100111110011001', '011100101010110111010110110110110011010100011101', '011111001110110000000111111010110101001110101000', '011000111010010100111110010100000111101100101111', '111011001000010010110111111101100001100010111100', '111101111000101000111010110000010011101111111011', '111000001101101111101011111011011110011110000001', '101100011111001101000111101110100100011001001111', '001000010101111111010011110111101101001110000110', '011101010111000111110101100101000110011111101001', '100101111100010111010001111110101011101001000001', '010111110100001110110111111100101110011100111010', '101111111001000110001101001111010011111100001010', '110010110011110110001011000011100001011111110101']"
   ]
  },
  {
   "cell_type": "code",
   "execution_count": 12,
   "metadata": {},
   "outputs": [],
   "source": [
    "def substitute(expanded_block, s_boxes):\n",
    "    output = \"\"\n",
    "    for i in range(0, len(expanded_block), 6):\n",
    "        block = expanded_block[i:i + 6]\n",
    "        row = int(block[0] + block[5], 2)\n",
    "        col = int(block[1:5], 2)\n",
    "        output += f\"{s_boxes[i // 6][row][col]:04b}\"\n",
    "    return output\n",
    "\n",
    "def f(block, key):\n",
    "    expanded_block = ''.join(block[i - 1] for i in E)\n",
    "    xor_block = ''.join(str(int(x) ^ int(y)) for x, y in zip(expanded_block, key))\n",
    "    substituted_block = substitute(xor_block, S)\n",
    "    permuted_block = permutate(substituted_block, P)\n",
    "    return permuted_block\n"
   ]
  },
  {
   "cell_type": "code",
   "execution_count": 13,
   "metadata": {},
   "outputs": [
    {
     "data": {
      "text/plain": [
       "True"
      ]
     },
     "execution_count": 13,
     "metadata": {},
     "output_type": "execute_result"
    }
   ],
   "source": [
    "f('11110000101010101111000010101010','000110110000001011101111111111000111000001110010') == '00100011010010101010100110111011'"
   ]
  },
  {
   "cell_type": "code",
   "execution_count": 24,
   "metadata": {},
   "outputs": [],
   "source": [
    "# tables for key generation\n",
    "key_shifts = [1, 1, 2, 2, 2, 2, 2, 2, 1, 2, 2, 2, 2, 2, 2, 1]\n",
    "\n",
    "PC1 = [57, 49, 41, 33, 25, 17, 9, 1, 58, 50, 42, 34, 26, 18, 10, 2, 59, 51, 43, 35, 27, 19, 11, 3, 60, 52, 44, 36, 63,\n",
    "       55, 47, 39, 31, 23, 15, 7, 62, 54, 46, 38, 30, 22, 14, 6, 61, 53, 45, 37, 29, 21, 13, 5, 28, 20, 12, 4]\n",
    "\n",
    "PC2 = [14, 17, 11, 24, 1, 5, 3, 28, 15, 6, 21, 10, 23, 19, 12, 4, 26, 8, 16, 7, 27, 20, 13, 2, 41, 52, 31, 37, 47, 55,\n",
    "       30, 40, 51, 45, 33, 48, 44, 49, 39, 56, 34, 53, 46, 42, 50, 36, 29, 32]\n",
    "\n",
    "# tables for encryption\n",
    "\n",
    "IP = [58, 50, 42, 34, 26, 18, 10, 2,\n",
    "      60, 52, 44, 36, 28, 20, 12, 4,\n",
    "      62, 54, 46, 38, 30, 22, 14, 6,\n",
    "      64, 56, 48, 40, 32, 24, 16, 8,\n",
    "      57, 49, 41, 33, 25, 17, 9, 1,\n",
    "      59, 51, 43, 35, 27, 19, 11, 3,\n",
    "      61, 53, 45, 37, 29, 21, 13, 5,\n",
    "      63, 55, 47, 39, 31, 23, 15, 7]\n",
    "IP_inverse = [40, 8, 48, 16, 56, 24, 64, 32,\n",
    "              39, 7, 47, 15, 55, 23, 63, 31,\n",
    "              38, 6, 46, 14, 54, 22, 62, 30,\n",
    "              37, 5, 45, 13, 53, 21, 61, 29,\n",
    "              36, 4, 44, 12, 52, 20, 60, 28,\n",
    "              35, 3, 43, 11, 51, 19, 59, 27,\n",
    "              34, 2, 42, 10, 50, 18, 58, 26,\n",
    "              33, 1, 41, 9, 49, 17, 57, 25]\n",
    "\n",
    "\n",
    "# Tables for function f\n",
    "\n",
    "E = [32, 1, 2, 3, 4, 5, 4, 5, 6, 7, 8, 9, 8, 9, 10, 11, 12, 13, 12, 13, 14, 15, 16, 17, 16, 17, 18, 19, 20, 21, 20, 21,\n",
    "     22, 23, 24, 25, 24, 25, 26, 27, 28, 29, 28, 29, 30, 31, 32, 1]\n",
    "\n",
    "S = \\\n",
    "    [\n",
    "        [\n",
    "            [14, 4, 13, 1, 2, 15, 11, 8, 3, 10, 6, 12, 5, 9, 0, 7],\n",
    "            [0, 15, 7, 4, 14, 2, 13, 1, 10, 6, 12, 11, 9, 5, 3, 8],\n",
    "            [4, 1, 14, 8, 13, 6, 2, 11, 15, 12, 9, 7, 3, 10, 5, 0],\n",
    "            [15, 12, 8, 2, 4, 9, 1, 7, 5, 11, 3, 14, 10, 0, 6, 13]\n",
    "        ],\n",
    "        [\n",
    "            [15, 1, 8, 14, 6, 11, 3, 4, 9, 7, 2, 13, 12, 0, 5, 10],\n",
    "            [3, 13, 4, 7, 15, 2, 8, 14, 12, 0, 1, 10, 6, 9, 11, 5],\n",
    "            [0, 14, 7, 11, 10, 4, 13, 1, 5, 8, 12, 6, 9, 3, 2, 15],\n",
    "            [13, 8, 10, 1, 3, 15, 4, 2, 11, 6, 7, 12, 0, 5, 14, 9]\n",
    "        ],\n",
    "        [\n",
    "            [10, 0, 9, 14, 6, 3, 15, 5, 1, 13, 12, 7, 11, 4, 2, 8],\n",
    "            [13, 7, 0, 9, 3, 4, 6, 10, 2, 8, 5, 14, 12, 11, 15, 1],\n",
    "            [13, 6, 4, 9, 8, 15, 3, 0, 11, 1, 2, 12, 5, 10, 14, 7],\n",
    "            [1, 10, 13, 0, 6, 9, 8, 7, 4, 15, 14, 3, 11, 5, 2, 12]\n",
    "        ],\n",
    "        [\n",
    "            [7, 13, 14, 3, 0, 6, 9, 10, 1, 2, 8, 5, 11, 12, 4, 15],\n",
    "            [13, 8, 11, 5, 6, 15, 0, 3, 4, 7, 2, 12, 1, 10, 14, 9],\n",
    "            [10, 6, 9, 0, 12, 11, 7, 13, 15, 1, 3, 14, 5, 2, 8, 4],\n",
    "            [3, 15, 0, 6, 10, 1, 13, 8, 9, 4, 5, 11, 12, 7, 2, 14]\n",
    "        ],\n",
    "        [\n",
    "            [2, 12, 4, 1, 7, 10, 11, 6, 8, 5, 3, 15, 13, 0, 14, 9],\n",
    "            [14, 11, 2, 12, 4, 7, 13, 1, 5, 0, 15, 10, 3, 9, 8, 6],\n",
    "            [4, 2, 1, 11, 10, 13, 7, 8, 15, 9, 12, 5, 6, 3, 0, 14],\n",
    "            [11, 8, 12, 7, 1, 14, 2, 13, 6, 15, 0, 9, 10, 4, 5, 3]\n",
    "        ],\n",
    "        [\n",
    "            [12, 1, 10, 15, 9, 2, 6, 8, 0, 13, 3, 4, 14, 7, 5, 11],\n",
    "            [10, 15, 4, 2, 7, 12, 9, 5, 6, 1, 13, 14, 0, 11, 3, 8],\n",
    "            [9, 14, 15, 5, 2, 8, 12, 3, 7, 0, 4, 10, 1, 13, 11, 6],\n",
    "            [4, 3, 2, 12, 9, 5, 15, 10, 11, 14, 1, 7, 6, 0, 8, 13]\n",
    "        ],\n",
    "        [\n",
    "            [4, 11, 2, 14, 15, 0, 8, 13, 3, 12, 9, 7, 5, 10, 6, 1],\n",
    "            [13, 0, 11, 7, 4, 9, 1, 10, 14, 3, 5, 12, 2, 15, 8, 6],\n",
    "            [1, 4, 11, 13, 12, 3, 7, 14, 10, 15, 6, 8, 0, 5, 9, 2],\n",
    "            [6, 11, 13, 8, 1, 4, 10, 7, 9, 5, 0, 15, 14, 2, 3, 12]\n",
    "        ],\n",
    "        [\n",
    "            [13, 2, 8, 4, 6, 15, 11, 1, 10, 9, 3, 14, 5, 0, 12, 7],\n",
    "            [1, 15, 13, 8, 10, 3, 7, 4, 12, 5, 6, 11, 0, 14, 9, 2],\n",
    "            [7, 11, 4, 1, 9, 12, 14, 2, 0, 6, 10, 13, 15, 3, 5, 8],\n",
    "            [2, 1, 14, 7, 4, 10, 8, 13, 15, 12, 9, 0, 3, 5, 6, 11]\n",
    "        ]\n",
    "    ]\n",
    "\n",
    "P = [\n",
    "    16, 7, 20, 21, 29, 12, 28, 17,\n",
    "    1, 15, 23, 26, 5, 18, 31, 10,\n",
    "    2, 8, 24, 14, 32, 27, 3, 9,\n",
    "    19, 13, 30, 6, 22, 11, 4, 25]\n",
    "\n",
    "\n",
    "def bytes2binary(byte_array):\n",
    "    return ''.join(format(byte, '08b') for byte in byte_array)\n",
    "\n",
    "\n",
    "def binary2bytes(binary_string):\n",
    "    binary_string = binary_string.zfill(\n",
    "        len(binary_string) + (8 - len(binary_string) % 8))\n",
    "    return bytes(int(binary_string[i:i+8], 2) for i in range((8 - len(binary_string) % 8), len(binary_string), 8))\n",
    "\n",
    "def bin_xor(binary_string, binary_operator):\n",
    "    tmp_len = max(len(binary_string), len(binary_operator))\n",
    "    tmp_bin = bin(int(binary_string, 2) ^ int(binary_operator, 2))[2:]\n",
    "    return tmp_bin.zfill(tmp_len)\n",
    "    # tmp_len = max(len(binary_string), len(binary_operator))\n",
    "    # binary_string = binary_string.zfill(\n",
    "    #     len(binary_string) + (32 - len(binary_string) % 32))\n",
    "    # binary_operator = binary_operator.zfill(\n",
    "    #     len(binary_operator) + (32 - len(binary_operator) % 32))\n",
    "    # return ''.join(str(int(binary_string[i]) ^ int(binary_operator[i])) for i in range(32, len(binary_string)))\n",
    "\n",
    "\n",
    "def permutate(original, table):\n",
    "    return ''.join(original[i - 1] for i in table)\n",
    "\n",
    "\n",
    "def left_shift(key, shifts):\n",
    "    return key[shifts:] + key[:shifts]\n",
    "\n",
    "\n",
    "def create_DES_subkeys(key):\n",
    "    permuted_key = permutate(key, PC1)\n",
    "\n",
    "    left, right = permuted_key[:28], permuted_key[28:]\n",
    "\n",
    "    subkeys = []\n",
    "    for shifts in key_shifts:\n",
    "        left = left_shift(left, shifts)\n",
    "        right = left_shift(right, shifts)\n",
    "        combined_key = left + right\n",
    "        subkeys.append(permutate(combined_key, PC2))\n",
    "\n",
    "    return subkeys\n"
   ]
  },
  {
   "cell_type": "code",
   "execution_count": 26,
   "metadata": {},
   "outputs": [
    {
     "data": {
      "text/plain": [
       "b'\\x85\\xe8\\x13T\\x0f\\n\\xb4\\x05'"
      ]
     },
     "execution_count": 26,
     "metadata": {},
     "output_type": "execute_result"
    }
   ],
   "source": [
    "def encrypt_DES(key, message):\n",
    "    binary_key = bytes2binary(key)\n",
    "    binary_message = bytes2binary(message)\n",
    "\n",
    "    subkeys = create_DES_subkeys(binary_key)\n",
    "    permuted_message = permutate(binary_message, IP)\n",
    "\n",
    "    left, right = permuted_message[:32], permuted_message[32:]\n",
    "\n",
    "    for i in range(16):\n",
    "        xor_result = bin_xor(left, f(right, subkeys[i]))\n",
    "        left, right = right, xor_result\n",
    "\n",
    "    combined_message = right + left\n",
    "    final_permutation = permutate(combined_message, IP_inverse)\n",
    "    return binary2bytes(final_permutation)\n",
    "\n",
    "encrypt_DES(b'\\x13\\x34\\x57\\x79\\x9b\\xbc\\xdf\\xf1',b'\\x01\\x23\\x45\\x67\\x89\\xab\\xcd\\xef')"
   ]
  },
  {
   "cell_type": "markdown",
   "metadata": {},
   "source": [
    "b'\\\\x85\\\\xe8\\\\x13T\\\\x0f\\\\n\\\\xb4\\\\x05'"
   ]
  },
  {
   "cell_type": "code",
   "execution_count": 21,
   "metadata": {},
   "outputs": [],
   "source": [
    "from Crypto.Cipher import DES\n",
    "from Crypto.Random import get_random_bytes\n",
    "import sys"
   ]
  },
  {
   "cell_type": "code",
   "execution_count": 22,
   "metadata": {},
   "outputs": [],
   "source": [
    "def are_random_tests_all_passes(num_tests):\n",
    "    for _ in range(num_tests):\n",
    "        key = get_random_bytes(8)\n",
    "        message = get_random_bytes(8)\n",
    "        cipher = DES.new(key, DES.MODE_ECB)\n",
    "        encrypted_message_library = cipher.encrypt(message)\n",
    "\n",
    "        encrypted_message_custom = encrypt_DES(key, message)\n",
    "\n",
    "        if encrypted_message_library != encrypted_message_custom:\n",
    "            return False\n",
    "\n",
    "    return True"
   ]
  },
  {
   "cell_type": "code",
   "execution_count": 23,
   "metadata": {},
   "outputs": [
    {
     "data": {
      "text/plain": [
       "True"
      ]
     },
     "execution_count": 23,
     "metadata": {},
     "output_type": "execute_result"
    }
   ],
   "source": [
    "are_random_tests_all_passes(100)"
   ]
  },
  {
   "cell_type": "code",
   "execution_count": null,
   "metadata": {},
   "outputs": [],
   "source": []
  }
 ],
 "metadata": {
  "kernelspec": {
   "display_name": "Python 3",
   "language": "python",
   "name": "python3"
  },
  "language_info": {
   "codemirror_mode": {
    "name": "ipython",
    "version": 3
   },
   "file_extension": ".py",
   "mimetype": "text/x-python",
   "name": "python",
   "nbconvert_exporter": "python",
   "pygments_lexer": "ipython3",
   "version": "3.10.1"
  }
 },
 "nbformat": 4,
 "nbformat_minor": 2
}
