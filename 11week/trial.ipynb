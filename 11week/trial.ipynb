{
 "cells": [
  {
   "cell_type": "code",
   "execution_count": 1,
   "metadata": {},
   "outputs": [],
   "source": [
    "import hashlib"
   ]
  },
  {
   "cell_type": "code",
   "execution_count": 8,
   "metadata": {},
   "outputs": [],
   "source": [
    "def sha256(input_string):\n",
    "   return hashlib.sha256(input_string.encode()).hexdigest()\n"
   ]
  },
  {
   "cell_type": "code",
   "execution_count": 10,
   "metadata": {},
   "outputs": [
    {
     "data": {
      "text/plain": [
       "True"
      ]
     },
     "execution_count": 10,
     "metadata": {},
     "output_type": "execute_result"
    }
   ],
   "source": [
    "sha256(\"I\") == 'a83dd0ccbffe39d071cc317ddf6e97f5c6b1c87af91919271f9fa140b0508c6c'"
   ]
  },
  {
   "cell_type": "code",
   "execution_count": 12,
   "metadata": {},
   "outputs": [
    {
     "data": {
      "text/plain": [
       "True"
      ]
     },
     "execution_count": 12,
     "metadata": {},
     "output_type": "execute_result"
    }
   ],
   "source": [
    "sha256('love') =='686f746a95b6f836d7d70567c302c3f9ebb5ee0def3d1220ee9d4e9f34f5e131'"
   ]
  },
  {
   "cell_type": "code",
   "execution_count": 46,
   "metadata": {},
   "outputs": [],
   "source": [
    "users = {\n",
    "    'admin':'8c6976e5b5410415bde908bd4dee15dfb167a9c873fc4bb8a81f6f2ab448a918', #sha256('admin')\n",
    "    'user':'2cf24dba5fb0a30e26e83b2ac5b9e29e1b161e5c1fa7425e73043362938b9824', #sha256('hello')\n",
    "}\n",
    "def authenticate(username,password):\n",
    "    if username in users and users[username] == sha256(password):\n",
    "        return True\n",
    "    return False"
   ]
  },
  {
   "cell_type": "code",
   "execution_count": 50,
   "metadata": {},
   "outputs": [
    {
     "data": {
      "text/plain": [
       "False"
      ]
     },
     "execution_count": 50,
     "metadata": {},
     "output_type": "execute_result"
    }
   ],
   "source": [
    "authenticate('user','helo')"
   ]
  },
  {
   "cell_type": "code",
   "execution_count": 23,
   "metadata": {},
   "outputs": [],
   "source": [
    "chars = 'abcdefghijklmnopqrstuvxyz'\n",
    "\n",
    "def generate_combinations(length):\n",
    "    if length == 0:\n",
    "        return ['']\n",
    "    smaller_combinations = generate_combinations(length - 1)\n",
    "    return [s + char for s in smaller_combinations for char in chars]\n",
    "\n",
    "def hack_sha256_fixed_size(hash_value, password_length):\n",
    "    for password in generate_combinations(password_length):\n",
    "        if sha256(password) == hash_value:\n",
    "            return password\n",
    "    \n",
    "    return None\n",
    "\n"
   ]
  },
  {
   "cell_type": "code",
   "execution_count": 24,
   "metadata": {},
   "outputs": [
    {
     "data": {
      "text/plain": [
       "'admin'"
      ]
     },
     "execution_count": 24,
     "metadata": {},
     "output_type": "execute_result"
    }
   ],
   "source": [
    "hack_sha256_fixed_size('8c6976e5b5410415bde908bd4dee15dfb167a9c873fc4bb8a81f6f2ab448a918',5)"
   ]
  },
  {
   "cell_type": "code",
   "execution_count": 25,
   "metadata": {},
   "outputs": [
    {
     "data": {
      "text/plain": [
       "'hello'"
      ]
     },
     "execution_count": 25,
     "metadata": {},
     "output_type": "execute_result"
    }
   ],
   "source": [
    "hack_sha256_fixed_size('2cf24dba5fb0a30e26e83b2ac5b9e29e1b161e5c1fa7425e73043362938b9824',5)"
   ]
  },
  {
   "cell_type": "code",
   "execution_count": 26,
   "metadata": {},
   "outputs": [
    {
     "data": {
      "text/plain": [
       "'crypt'"
      ]
     },
     "execution_count": 26,
     "metadata": {},
     "output_type": "execute_result"
    }
   ],
   "source": [
    "hack_sha256_fixed_size('a819d7cd38e9101be2e496298e8bf426ce9cdf78d2af35ddf44c6ad25d50158b',5)"
   ]
  },
  {
   "cell_type": "code",
   "execution_count": 27,
   "metadata": {},
   "outputs": [
    {
     "data": {
      "text/plain": [
       "'asd'"
      ]
     },
     "execution_count": 27,
     "metadata": {},
     "output_type": "execute_result"
    }
   ],
   "source": [
    "hack_sha256_fixed_size('688787d8ff144c502c7f5cffaafe2cc588d86079f9de88304c26b0cb99ce91c6',3)"
   ]
  },
  {
   "cell_type": "code",
   "execution_count": 28,
   "metadata": {},
   "outputs": [
    {
     "data": {
      "text/plain": [
       "'elte'"
      ]
     },
     "execution_count": 28,
     "metadata": {},
     "output_type": "execute_result"
    }
   ],
   "source": [
    "hack_sha256_fixed_size('7ec658e98073955c48314d0146593497a163d79f4e1dfea4bab03b79af227214',4)"
   ]
  },
  {
   "cell_type": "code",
   "execution_count": 29,
   "metadata": {},
   "outputs": [],
   "source": [
    "def hack_sha256(hash_value):\n",
    "    for length in range(1, 11):\n",
    "        result = hack_sha256_fixed_size(hash_value, length)\n",
    "        if result is not None:\n",
    "            return result\n",
    "    return None"
   ]
  },
  {
   "cell_type": "code",
   "execution_count": 30,
   "metadata": {},
   "outputs": [
    {
     "data": {
      "text/plain": [
       "'admin'"
      ]
     },
     "execution_count": 30,
     "metadata": {},
     "output_type": "execute_result"
    }
   ],
   "source": [
    "hack_sha256('8c6976e5b5410415bde908bd4dee15dfb167a9c873fc4bb8a81f6f2ab448a918')"
   ]
  },
  {
   "cell_type": "code",
   "execution_count": 31,
   "metadata": {},
   "outputs": [
    {
     "data": {
      "text/plain": [
       "'hello'"
      ]
     },
     "execution_count": 31,
     "metadata": {},
     "output_type": "execute_result"
    }
   ],
   "source": [
    "hack_sha256('2cf24dba5fb0a30e26e83b2ac5b9e29e1b161e5c1fa7425e73043362938b9824')"
   ]
  },
  {
   "cell_type": "code",
   "execution_count": 32,
   "metadata": {},
   "outputs": [
    {
     "data": {
      "text/plain": [
       "'crypt'"
      ]
     },
     "execution_count": 32,
     "metadata": {},
     "output_type": "execute_result"
    }
   ],
   "source": [
    "hack_sha256('a819d7cd38e9101be2e496298e8bf426ce9cdf78d2af35ddf44c6ad25d50158b')"
   ]
  },
  {
   "cell_type": "code",
   "execution_count": 33,
   "metadata": {},
   "outputs": [
    {
     "data": {
      "text/plain": [
       "'asd'"
      ]
     },
     "execution_count": 33,
     "metadata": {},
     "output_type": "execute_result"
    }
   ],
   "source": [
    "hack_sha256('688787d8ff144c502c7f5cffaafe2cc588d86079f9de88304c26b0cb99ce91c6')"
   ]
  },
  {
   "cell_type": "code",
   "execution_count": 34,
   "metadata": {},
   "outputs": [
    {
     "data": {
      "text/plain": [
       "'elte'"
      ]
     },
     "execution_count": 34,
     "metadata": {},
     "output_type": "execute_result"
    }
   ],
   "source": [
    "hack_sha256('7ec658e98073955c48314d0146593497a163d79f4e1dfea4bab03b79af227214')"
   ]
  },
  {
   "cell_type": "code",
   "execution_count": 39,
   "metadata": {},
   "outputs": [],
   "source": [
    "def authenticate_with_pepper(username, password):\n",
    "    pepper_prefix = 'this_can_help_to_confuse_the_attacker_'\n",
    "    users_with_pepper = {\n",
    "        'admin': {'passwordHash': '89e6b5ed137e3864d99ec9b421cf6f565d611f4c2b98e31a7d353d63aa748e9c'},\n",
    "        'user': {'passwordHash': '6dc765830e675d5fa4a9afb248be09a0407f6353d44652fd9b36038884a76323'}\n",
    "    }\n",
    "\n",
    "    password_hash = sha256(pepper_prefix + password)\n",
    "\n",
    "    return users_with_pepper.get(username, {}).get('passwordHash') == password_hash"
   ]
  },
  {
   "cell_type": "code",
   "execution_count": 40,
   "metadata": {},
   "outputs": [
    {
     "data": {
      "text/plain": [
       "True"
      ]
     },
     "execution_count": 40,
     "metadata": {},
     "output_type": "execute_result"
    }
   ],
   "source": [
    "authenticate_with_pepper('admin', 'admin')"
   ]
  },
  {
   "cell_type": "code",
   "execution_count": 41,
   "metadata": {},
   "outputs": [
    {
     "data": {
      "text/plain": [
       "False"
      ]
     },
     "execution_count": 41,
     "metadata": {},
     "output_type": "execute_result"
    }
   ],
   "source": [
    "authenticate_with_pepper('admin', 'admin2')"
   ]
  },
  {
   "cell_type": "code",
   "execution_count": 42,
   "metadata": {},
   "outputs": [
    {
     "data": {
      "text/plain": [
       "True"
      ]
     },
     "execution_count": 42,
     "metadata": {},
     "output_type": "execute_result"
    }
   ],
   "source": [
    "authenticate_with_pepper('user', 'hello')"
   ]
  },
  {
   "cell_type": "code",
   "execution_count": 44,
   "metadata": {},
   "outputs": [],
   "source": [
    "def authenticate_with_pepper_and_salt(username, password):\n",
    "    pepper_prefix = 'this_can_help_to_confuse_the_attacker_'\n",
    "    users_with_pepper_and_salt = {\n",
    "        'admin': {'passwordHash': 'd3eab7f4d6974f1db32b9cd9923fce9b434b28dc229b6582b845f1fca770d9f7', 'salt': \"5294976873732394418\"},\n",
    "        'user': {'passwordHash': '976c73e0b408c89df3c1a12c3b0c45a6fee71bc1de5b47a88fae1a5e69ba6e28', 'salt': '1103733363818826232'}\n",
    "    }\n",
    "\n",
    "    user_data = users_with_pepper_and_salt.get(username)\n",
    "\n",
    "    if not user_data:\n",
    "        return False\n",
    "\n",
    "    password_hash = sha256(pepper_prefix + password + user_data['salt'])\n",
    "\n",
    "    return password_hash == user_data['passwordHash']\n",
    "\n",
    "\n"
   ]
  },
  {
   "cell_type": "code",
   "execution_count": 45,
   "metadata": {},
   "outputs": [
    {
     "data": {
      "text/plain": [
       "{('admin', 'admin'): True,\n",
       " ('admin', 'admin2'): False,\n",
       " ('user', 'hello'): True,\n",
       " ('user', 'helo'): False}"
      ]
     },
     "execution_count": 45,
     "metadata": {},
     "output_type": "execute_result"
    }
   ],
   "source": [
    "test_results_salt_pepper = {\n",
    "    ('admin', 'admin'): authenticate_with_pepper_and_salt('admin', 'admin'),\n",
    "    ('admin', 'admin2'): authenticate_with_pepper_and_salt('admin', 'admin2'),\n",
    "    ('user', 'hello'): authenticate_with_pepper_and_salt('user', 'hello'),\n",
    "    ('user', 'helo'): authenticate_with_pepper_and_salt('user', 'helo')\n",
    "}\n",
    "test_results_salt_pepper"
   ]
  },
  {
   "cell_type": "markdown",
   "metadata": {},
   "source": [
    "# Rainbow attack"
   ]
  },
  {
   "cell_type": "code",
   "execution_count": 24,
   "metadata": {},
   "outputs": [],
   "source": [
    "import hashlib\n",
    "\n",
    "def read_passwords_from_file(file_path):\n",
    "    password_list = []\n",
    "    with open(file_path, 'r') as file:\n",
    "        for line in file:\n",
    "            password_list.append(line.strip())\n",
    "    return password_list\n",
    "\n",
    "def create_rainbow_table():\n",
    "    rainbow_table = {}\n",
    "    \n",
    "    password_list = read_passwords_from_file('./milw0rm-dictionary.txt')\n",
    "\n",
    "    for password in password_list:\n",
    "        hashed = hashlib.sha256(password.encode()).hexdigest()\n",
    "        rainbow_table[hashed] = password\n",
    "    return rainbow_table\n",
    "def search_rainbow_table(rainbow_table, hash_to_find):\n",
    "    return rainbow_table.get(hash_to_find, None)\n"
   ]
  },
  {
   "cell_type": "code",
   "execution_count": 25,
   "metadata": {},
   "outputs": [
    {
     "name": "stdout",
     "output_type": "stream",
     "text": [
      "Found plaintext for the hash: cryptography\n"
     ]
    }
   ],
   "source": [
    "import string\n",
    "import random\n",
    "\n",
    "chars = string.ascii_lowercase + string.digits\n",
    "password_length = 8\n",
    "table_size = 1000000  # The size of the rainbow table\n",
    "\n",
    "rainbow_table = create_rainbow_table()\n",
    "\n",
    "hash_to_find = 'e06554818e902b4ba339f066967c0000da3fcda4fd7eb4ef89c124fa78bda419'\n",
    "\n",
    "plaintext = search_rainbow_table(rainbow_table, hash_to_find)\n",
    "if plaintext:\n",
    "    print(f'Found plaintext for the hash: {plaintext}')\n",
    "else:\n",
    "    print('Plaintext not found in the rainbow table.')\n"
   ]
  },
  {
   "cell_type": "code",
   "execution_count": null,
   "metadata": {},
   "outputs": [],
   "source": []
  },
  {
   "cell_type": "markdown",
   "metadata": {},
   "source": [
    "# Dictionary attack"
   ]
  },
  {
   "cell_type": "code",
   "execution_count": 10,
   "metadata": {},
   "outputs": [
    {
     "name": "stdout",
     "output_type": "stream",
     "text": [
      "Password not found.\n"
     ]
    }
   ],
   "source": [
    "import hashlib\n",
    "\n",
    "def dictionary_attack(target_hash, password_list):\n",
    "    for password in password_list:\n",
    "        hashed = hashlib.sha256(password.encode()).hexdigest()\n",
    "        if hashed == target_hash:\n",
    "            return password  # Password found\n",
    "    return None  # Password not found\n",
    "\n",
    "password_list = read_passwords_from_file('./10-million-password-list-top-1000000.txt')\n",
    "target_hash = 'e06554818e902b4ba339f066967c0000da3fcda4fd7eb4ef89c124fa78bda419'\n",
    "found_password = dictionary_attack(target_hash, password_list)\n",
    "if found_password:\n",
    "    print(f\"Password found: {found_password}\")\n",
    "else:\n",
    "    print(\"Password not found.\")\n"
   ]
  },
  {
   "cell_type": "markdown",
   "metadata": {},
   "source": [
    "# Hybrid attacks"
   ]
  },
  {
   "cell_type": "code",
   "execution_count": 5,
   "metadata": {},
   "outputs": [
    {
     "ename": "KeyboardInterrupt",
     "evalue": "",
     "output_type": "error",
     "traceback": [
      "\u001b[0;31m---------------------------------------------------------------------------\u001b[0m",
      "\u001b[0;31mKeyboardInterrupt\u001b[0m                         Traceback (most recent call last)",
      "\u001b[0;32m/var/folders/db/q45d2_5d0c52zkvrdw9tp0xm0000gn/T/ipykernel_72718/3476245632.py\u001b[0m in \u001b[0;36m<module>\u001b[0;34m\u001b[0m\n\u001b[1;32m     17\u001b[0m \u001b[0mpassword_list\u001b[0m \u001b[0;34m=\u001b[0m \u001b[0mread_passwords_from_file\u001b[0m\u001b[0;34m(\u001b[0m\u001b[0;34m'./10-million-password-list-top-1000000.txt'\u001b[0m\u001b[0;34m)\u001b[0m\u001b[0;34m\u001b[0m\u001b[0;34m\u001b[0m\u001b[0m\n\u001b[1;32m     18\u001b[0m \u001b[0mtarget_hash\u001b[0m \u001b[0;34m=\u001b[0m \u001b[0;34m'e06554818e902b4ba339f066967c0000da3fcda4fd7eb4ef89c124fa78bda419'\u001b[0m\u001b[0;34m\u001b[0m\u001b[0;34m\u001b[0m\u001b[0m\n\u001b[0;32m---> 19\u001b[0;31m \u001b[0mfound_password\u001b[0m \u001b[0;34m=\u001b[0m \u001b[0mhybrid_attack\u001b[0m\u001b[0;34m(\u001b[0m\u001b[0mtarget_hash\u001b[0m\u001b[0;34m,\u001b[0m \u001b[0mpassword_list\u001b[0m\u001b[0;34m,\u001b[0m \u001b[0mmax_extra_length\u001b[0m\u001b[0;34m=\u001b[0m\u001b[0;36m2\u001b[0m\u001b[0;34m)\u001b[0m\u001b[0;34m\u001b[0m\u001b[0;34m\u001b[0m\u001b[0m\n\u001b[0m\u001b[1;32m     20\u001b[0m \u001b[0;32mif\u001b[0m \u001b[0mfound_password\u001b[0m\u001b[0;34m:\u001b[0m\u001b[0;34m\u001b[0m\u001b[0;34m\u001b[0m\u001b[0m\n\u001b[1;32m     21\u001b[0m     \u001b[0mprint\u001b[0m\u001b[0;34m(\u001b[0m\u001b[0;34mf\"Password found: {found_password}\"\u001b[0m\u001b[0;34m)\u001b[0m\u001b[0;34m\u001b[0m\u001b[0;34m\u001b[0m\u001b[0m\n",
      "\u001b[0;32m/var/folders/db/q45d2_5d0c52zkvrdw9tp0xm0000gn/T/ipykernel_72718/3476245632.py\u001b[0m in \u001b[0;36mhybrid_attack\u001b[0;34m(target_hash, base_password_list, max_extra_length)\u001b[0m\n\u001b[1;32m      9\u001b[0m         \u001b[0;32mfor\u001b[0m \u001b[0mextra_length\u001b[0m \u001b[0;32min\u001b[0m \u001b[0mrange\u001b[0m\u001b[0;34m(\u001b[0m\u001b[0;36m1\u001b[0m\u001b[0;34m,\u001b[0m \u001b[0mmax_extra_length\u001b[0m \u001b[0;34m+\u001b[0m \u001b[0;36m1\u001b[0m\u001b[0;34m)\u001b[0m\u001b[0;34m:\u001b[0m\u001b[0;34m\u001b[0m\u001b[0;34m\u001b[0m\u001b[0m\n\u001b[1;32m     10\u001b[0m             \u001b[0;32mfor\u001b[0m \u001b[0mcombination\u001b[0m \u001b[0;32min\u001b[0m \u001b[0mitertools\u001b[0m\u001b[0;34m.\u001b[0m\u001b[0mproduct\u001b[0m\u001b[0;34m(\u001b[0m\u001b[0mchars\u001b[0m\u001b[0;34m,\u001b[0m \u001b[0mrepeat\u001b[0m\u001b[0;34m=\u001b[0m\u001b[0mextra_length\u001b[0m\u001b[0;34m)\u001b[0m\u001b[0;34m:\u001b[0m\u001b[0;34m\u001b[0m\u001b[0;34m\u001b[0m\u001b[0m\n\u001b[0;32m---> 11\u001b[0;31m                 \u001b[0mtest_password\u001b[0m \u001b[0;34m=\u001b[0m \u001b[0mbase_password\u001b[0m \u001b[0;34m+\u001b[0m \u001b[0;34m''\u001b[0m\u001b[0;34m.\u001b[0m\u001b[0mjoin\u001b[0m\u001b[0;34m(\u001b[0m\u001b[0mcombination\u001b[0m\u001b[0;34m)\u001b[0m\u001b[0;34m\u001b[0m\u001b[0;34m\u001b[0m\u001b[0m\n\u001b[0m\u001b[1;32m     12\u001b[0m                 \u001b[0mhashed\u001b[0m \u001b[0;34m=\u001b[0m \u001b[0mhashlib\u001b[0m\u001b[0;34m.\u001b[0m\u001b[0msha256\u001b[0m\u001b[0;34m(\u001b[0m\u001b[0mtest_password\u001b[0m\u001b[0;34m.\u001b[0m\u001b[0mencode\u001b[0m\u001b[0;34m(\u001b[0m\u001b[0;34m)\u001b[0m\u001b[0;34m)\u001b[0m\u001b[0;34m.\u001b[0m\u001b[0mhexdigest\u001b[0m\u001b[0;34m(\u001b[0m\u001b[0;34m)\u001b[0m\u001b[0;34m\u001b[0m\u001b[0;34m\u001b[0m\u001b[0m\n\u001b[1;32m     13\u001b[0m                 \u001b[0;32mif\u001b[0m \u001b[0mhashed\u001b[0m \u001b[0;34m==\u001b[0m \u001b[0mtarget_hash\u001b[0m\u001b[0;34m:\u001b[0m\u001b[0;34m\u001b[0m\u001b[0;34m\u001b[0m\u001b[0m\n",
      "\u001b[0;31mKeyboardInterrupt\u001b[0m: "
     ]
    }
   ],
   "source": [
    "import hashlib\n",
    "import itertools\n",
    "import string\n",
    "\n",
    "def hybrid_attack(target_hash, base_password_list, max_extra_length=2):\n",
    "    chars = string.ascii_lowercase + string.ascii_uppercase + string.digits + string.punctuation\n",
    "\n",
    "    for base_password in base_password_list:\n",
    "        for extra_length in range(1, max_extra_length + 1):\n",
    "            for combination in itertools.product(chars, repeat=extra_length):\n",
    "                test_password = base_password + ''.join(combination)\n",
    "                hashed = hashlib.sha256(test_password.encode()).hexdigest()\n",
    "                if hashed == target_hash:\n",
    "                    return test_password\n",
    "    return None\n",
    "\n",
    "password_list = read_passwords_from_file('./10-million-password-list-top-1000000.txt')\n",
    "target_hash = 'e06554818e902b4ba339f066967c0000da3fcda4fd7eb4ef89c124fa78bda419'\n",
    "found_password = hybrid_attack(target_hash, password_list, max_extra_length=2)\n",
    "if found_password:\n",
    "    print(f\"Password found: {found_password}\")\n",
    "else:\n",
    "    print(\"Password not found.\")\n"
   ]
  },
  {
   "cell_type": "code",
   "execution_count": null,
   "metadata": {},
   "outputs": [],
   "source": []
  }
 ],
 "metadata": {
  "kernelspec": {
   "display_name": "Python 3",
   "language": "python",
   "name": "python3"
  },
  "language_info": {
   "codemirror_mode": {
    "name": "ipython",
    "version": 3
   },
   "file_extension": ".py",
   "mimetype": "text/x-python",
   "name": "python",
   "nbconvert_exporter": "python",
   "pygments_lexer": "ipython3",
   "version": "3.10.1"
  }
 },
 "nbformat": 4,
 "nbformat_minor": 2
}
